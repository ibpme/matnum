{
  "nbformat": 4,
  "nbformat_minor": 0,
  "metadata": {
    "colab": {
      "name": "1_10118004_5_1.ipynb",
      "provenance": [],
      "collapsed_sections": []
    },
    "kernelspec": {
      "name": "python3",
      "display_name": "Python 3"
    }
  },
  "cells": [
    {
      "cell_type": "markdown",
      "metadata": {
        "id": "j4ZL7fbFKM3c",
        "colab_type": "text"
      },
      "source": [
        "# Metode Penyelesaian Persamaan Tak Linear"
      ]
    },
    {
      "cell_type": "markdown",
      "metadata": {
        "id": "Jvk-Kg-kOUwR",
        "colab_type": "text"
      },
      "source": [
        "# Soal 1"
      ]
    },
    {
      "cell_type": "markdown",
      "metadata": {
        "id": "Lz70XIEVOXTo",
        "colab_type": "text"
      },
      "source": [
        "Jelaskan secara singkat perbedaan mendasar Metode Sekan dibandingkan Metode Bagi Dua dan Metode Posisi Palsu"
      ]
    },
    {
      "cell_type": "markdown",
      "metadata": {
        "id": "7CaMU02OPBWH",
        "colab_type": "text"
      },
      "source": [
        "## Metode Sekan\n",
        "- Tidak harus mencari turunan\n",
        "- Tebakan awal bisa sembarang\n",
        "\n",
        "## Metode Bagi Dua\n",
        "- Kekonvergenan Lamban \n",
        "- Tebakan awal tidak bisa sembarang (bersyarat)\n",
        "\n",
        "## Metode Posisi Palsu\n",
        "- Kekonvergenan lebih cepat\n",
        "- Iterasi lebih banyak"
      ]
    },
    {
      "cell_type": "markdown",
      "metadata": {
        "id": "864e_VyOKSHE",
        "colab_type": "text"
      },
      "source": [
        "# Soal 2"
      ]
    },
    {
      "cell_type": "markdown",
      "metadata": {
        "id": "Prrvuc_crSFc",
        "colab_type": "text"
      },
      "source": [
        "![Artboard 2water2.png](data:image/png;base64,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)"
      ]
    },
    {
      "cell_type": "markdown",
      "metadata": {
        "id": "T9yM3r_o3MOF",
        "colab_type": "text"
      },
      "source": [
        "Pada suatu hari yang cerah, pak lurah datang ke rumah anda. Beliau bercerita bahwa sumurnya sedang dilanda kekeringan. Sehingga, beliau ingin membuat sebuah tangki penampungan air. Karena satu dan lain hal, beliau hanya memiliki tangki berbentuk bola.\n",
        "\n",
        "Tangki tersebut memiliki suatu penanda, sehingga dapat diketahui tinggi air yang ada di dalam tangki tersebut. Pak lurah ingin tahu, berapa tinggi air di dalam tangki, yang dibutuhkan untuk mengisi tangki dengan volume air tertentu.\n",
        "\n",
        "Anda sebagai mahasiswa jurusan matematika yang budiman, ingin membantu pak lurah menyelesaikan permasalahan yang ia hadapi dengan cara membuat sebuah program.\n",
        "\n",
        "====================================================================================\n",
        " \n",
        "Diketahui bahwa volume air pada tangki berbentuk bola, dapat dihitung menggunakan persamaan $V = \\pi h^2 \\big( \\frac{3R-h}{3} \\big)$.\n",
        " \n",
        "Jika diberikan jari-jari tangki $(R)$ serta volume air didalamnya $(V)$, lengkapi fungsi metode_bagi_dua (mencari akar menggunakan metode kurung), untuk menentukan tinggi air $(h)$ di dalam tangki tersebut.\n",
        " \n",
        "**Ketentuan khusus:**\n",
        " \n",
        "- **Dilarang meminta input pada pengguna** untuk nilai awal batas kiri dan batas kanan (dinotasikan dengan $a$ dan $b$). Silahkan tentukan sendiri nilai $a$ dan $b$, sehingga fungsi dapat bekerja untuk seluruh nilai $R$ dan $V$ yang mungkin dan memenuhi asumsi. \n",
        " \n",
        "- Fungsi me-return nilai dari variabel $h$ saja, dengan akurasi 4 angka di belakang koma.\n",
        " \n",
        "- Praktikan dipersilahkan untuk membuat fungsi (baik fungsi maupun fungsi lambda) didalam fungsi metode_bagi_dua.\n",
        "\n",
        "- Library yang dapat digunakan adalah: math.\n",
        " \n",
        "**Asumsi yang digunakan:**\n",
        "- $R$, $V$, dan $h$ merupakan bilangan riil\n",
        "- $R > 0$\n",
        "- $0 \\leq V \\leq \\frac{4}{3} \\pi R^3$\n",
        "- $a < b$\n",
        "- Syarat berhenti ${b_i - a_i} < 10^{-8}$ atau $|f(h_i)| < 10^{-8}$ pada suatu iterasi ke-i\n",
        "\n",
        "**Fungsi metode_bagi_dua:**\n",
        "- Deskripsi: Mencari ketinggian air didalam tangki, jika diberikan volume air tersebut beserta jari-jari tangki.\n",
        "- Masukan:\n",
        "  - $R$: Jari-jari tangki\n",
        "  - $V$: Volume air di dalam tangki\n",
        "- Keluaran:\n",
        "  - $h$: Ketinggian air"
      ]
    },
    {
      "cell_type": "markdown",
      "metadata": {
        "id": "NXOLG3ai1Qso",
        "colab_type": "text"
      },
      "source": [
        "Syarat tinggi h berada pada interval $ 0 \\le h \\le 2R$\n",
        "sehingga $ 0 \\le a < b \\le 2R$ dan"
      ]
    },
    {
      "cell_type": "code",
      "metadata": {
        "id": "bTXayh3DL5mh",
        "colab_type": "code",
        "colab": {}
      },
      "source": [
        "### Jawaban soal 2 ###\n",
        "from math import pi\n",
        "def metode_bagi_dua(R, V):\n",
        "  ### Isi jawaban Anda di bawah ###\n",
        "  f = lambda h: V - pi*(h**2)*(3*R - h)/3\n",
        "\n",
        " \n",
        "\n",
        "  #Syarat berhenti \n",
        "  eps = 10**-8 \n",
        "\n",
        "  #Syarat a,b harus antara 0 dan 2*R dengan a<b dan f(a)*f(b)>0 \n",
        "  a = 4\n",
        "  b = 12\n",
        "  fa=f(a)\n",
        "  fb=f(b)\n",
        "\n",
        "  if b<=a or 0<=fa*fb: \n",
        "    return \"Invalid input\"\n",
        "  while True:   \n",
        "    c = (a+b)/2\n",
        "    fc=f(c)\n",
        "\n",
        "    if fa*fc<0:\n",
        "      b = c\n",
        "      fb=fc\n",
        "    else:\n",
        "      a = c\n",
        "      fa=fc\n",
        "\n",
        "    if abs(fc) < eps or (b-a) < eps :\n",
        "      break\n",
        "  return c\n",
        "\n",
        "\n"
      ],
      "execution_count": null,
      "outputs": []
    },
    {
      "cell_type": "markdown",
      "metadata": {
        "id": "pn53iCBvSi1I",
        "colab_type": "text"
      },
      "source": [
        "# Periksa jawaban 2"
      ]
    },
    {
      "cell_type": "code",
      "metadata": {
        "id": "mmgEQrjHN2Lr",
        "colab_type": "code",
        "cellView": "both",
        "colab": {
          "base_uri": "https://localhost:8080/",
          "height": 34
        },
        "outputId": "c40bcac2-dca2-4ac7-9b21-23c24c662a8c"
      },
      "source": [
        "R = 2\n",
        "V = 5\n",
        "print(metode_bagi_dua(R, V))"
      ],
      "execution_count": null,
      "outputs": [
        {
          "output_type": "stream",
          "text": [
            "5.861005663871765\n"
          ],
          "name": "stdout"
        }
      ]
    },
    {
      "cell_type": "markdown",
      "metadata": {
        "colab_type": "text",
        "id": "BPb1hhUCNX4A"
      },
      "source": [
        "# Soal 3"
      ]
    },
    {
      "cell_type": "markdown",
      "metadata": {
        "id": "kUMj1ULvgbc4",
        "colab_type": "text"
      },
      "source": [
        "Buatlah fungsi $mod\\_false\\_pos(f,a,b,eps,delta)$ dengan input suatu fungsi lambda $f(x)$, dua bilangan real $a,b$ sebagai tebakan awal, batas galat eps dan delta (default $eps=10^{-5}$, $delta=10^{-5}$), dan memberikan return (output) hampiran akar dari $f(x)$ (4 angka di belakang koma), menggunakan metode modifikasi posisi palsu\n",
        "\n",
        "*   dapat diasumsikan $a<b$\n",
        "*   dapat diasumsikan $f(x)$ kontinu pada $[a,b]$\n",
        "*   $mod\\_false\\_pos(f,a,b,eps,delta)$ akan memberikan return string \"Invalid input\" jika $f(a)f(b)>0$\n",
        "*   inisiasi $clama = 2b-a$ (cek modul)\n",
        "*   iterasi akan berhenti jika $|fc|<eps$ atau $|c-clama|<delta$ (cek modul)"
      ]
    },
    {
      "cell_type": "code",
      "metadata": {
        "colab_type": "code",
        "id": "FavzCc3UNX4F",
        "colab": {}
      },
      "source": [
        "### Jawaban soal 3 ###\n",
        "def mod_false_pos(f, a, b, eps = 1e-4, delta = 1e-5):\n",
        "  ### Isi jawaban Anda di bawah ###\n",
        "  fa=f(a)\n",
        "  fb=f(b)\n",
        "\n",
        "  if b<=a or 0<=fa*fb: \n",
        "    return \"Invalid input\"\n",
        "\n",
        "  clama= 2*b-a\n",
        "  kiri=0\n",
        "  kanan=0\n",
        "\n",
        "  while True :\n",
        "    c = a-fa*(b-a)/(fb-fa)\n",
        "    fc=f(c)\n",
        "\n",
        "    if fa*fc<0:\n",
        "      b = c\n",
        "      fb=fc\n",
        "      kanan,kiri = 0, kiri+1\n",
        "      if kiri > 2 :\n",
        "          fa = fa/2\n",
        "\n",
        "    else:\n",
        "      a = c\n",
        "      fa=fc\n",
        "      kiri,kanan = 0, kanan+1\n",
        "      if kanan > 2 :\n",
        "          fb = fb/2\n",
        "\n",
        "    if abs(c-clama) < delta or abs(fc) < eps :\n",
        "      break\n",
        "    clama=c\n",
        "  return c"
      ],
      "execution_count": null,
      "outputs": []
    },
    {
      "cell_type": "markdown",
      "metadata": {
        "colab_type": "text",
        "id": "EhnbKe-YSsHV"
      },
      "source": [
        "# Periksa jawaban 3"
      ]
    },
    {
      "cell_type": "code",
      "metadata": {
        "id": "uk_bitQejVkQ",
        "colab_type": "code",
        "colab": {
          "base_uri": "https://localhost:8080/",
          "height": 34
        },
        "outputId": "c6accf7a-4ecf-4328-9ff0-29bd56d76da1"
      },
      "source": [
        "F = lambda x: (x - 1)**3\n",
        "A = 0\n",
        "B = 3 \n",
        "print(mod_false_pos(F, A, B))"
      ],
      "execution_count": null,
      "outputs": [
        {
          "output_type": "stream",
          "text": [
            "0.9664817247324026\n"
          ],
          "name": "stdout"
        }
      ]
    },
    {
      "cell_type": "markdown",
      "metadata": {
        "id": "NTfkw0mrrMR-",
        "colab_type": "text"
      },
      "source": [
        "# Tips"
      ]
    },
    {
      "cell_type": "markdown",
      "metadata": {
        "id": "p-KvpsiOrOt1",
        "colab_type": "text"
      },
      "source": [
        "Perintah $break$ dapat digunakan untuk menghentikan suatu loop\n",
        "\n",
        "\n",
        "\n",
        "```\n",
        ">>> for i in range(5):\n",
        "      if i < 3:\n",
        "        print(i)\n",
        "      else:\n",
        "        break\n",
        "\n",
        "0\n",
        "1\n",
        "2\n",
        "\n",
        ">>> i = 0\n",
        ">>> while i < 5:\n",
        "      if i < 3:\n",
        "        print(i)\n",
        "      else:\n",
        "        break\n",
        "      i += 1\n",
        "\n",
        "0\n",
        "1\n",
        "2\n",
        "```\n",
        "\n"
      ]
    }
  ]
}