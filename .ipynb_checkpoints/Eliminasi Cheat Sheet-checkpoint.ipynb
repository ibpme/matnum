{
 "cells": [
  {
   "cell_type": "code",
   "execution_count": 21,
   "metadata": {},
   "outputs": [
    {
     "name": "stdout",
     "output_type": "stream",
     "text": [
      "3 6\n"
     ]
    },
    {
     "data": {
      "text/plain": [
       "array([[2., 3., 1., 1., 0., 0.],\n",
       "       [3., 4., 1., 0., 1., 0.],\n",
       "       [3., 7., 2., 0., 0., 1.]])"
      ]
     },
     "execution_count": 21,
     "metadata": {},
     "output_type": "execute_result"
    }
   ],
   "source": [
    "import numpy as np\n",
    "n = 3\n",
    "# matrix = np.random.rand(n,n)\n",
    "matrix = np.array([[2,3,1],[3,4,1],[3,7,2]])\n",
    "# matrix = np.zeros([n,n])\n",
    "identity = np.identity(n)\n",
    "matrix_set = np.concatenate((matrix,identity), axis=1)\n",
    "row , col = matrix_set.shape\n",
    "print(row,col)\n",
    "matrix_set"
   ]
  },
  {
   "cell_type": "code",
   "execution_count": 22,
   "metadata": {},
   "outputs": [
    {
     "data": {
      "text/plain": [
       "[array([[2., 3., 1.],\n",
       "        [3., 4., 1.],\n",
       "        [3., 7., 2.]]),\n",
       " array([[1., 0., 0.],\n",
       "        [0., 1., 0.],\n",
       "        [0., 0., 1.]])]"
      ]
     },
     "execution_count": 22,
     "metadata": {},
     "output_type": "execute_result"
    }
   ],
   "source": [
    "np.split(matrix_set,[n],axis=1)"
   ]
  },
  {
   "cell_type": "code",
   "execution_count": 23,
   "metadata": {},
   "outputs": [],
   "source": [
    "def eliminate_backward(matrix):\n",
    "    for k in range(row-1):\n",
    "        if abs(matrix[k][k]) < 10**-15:\n",
    "            print(\"NotValidValue\", (k, k))\n",
    "            raise Exception(\"Proses Gagal\")\n",
    "        for i in range(k+1, row):\n",
    "            p = matrix[i][k]/matrix[k][k]\n",
    "            for j in range(k+1, col):\n",
    "                matrix[i][j] = matrix[i][j] - p*matrix[k][j]\n",
    "            matrix[i][k] = 0\n",
    "\n",
    "    return matrix"
   ]
  },
  {
   "cell_type": "code",
   "execution_count": 24,
   "metadata": {},
   "outputs": [],
   "source": []
  },
  {
   "cell_type": "code",
   "execution_count": 25,
   "metadata": {},
   "outputs": [
    {
     "data": {
      "text/plain": [
       "[array([[ 2. ,  3. ,  1. ],\n",
       "        [ 0. , -0.5, -0.5],\n",
       "        [ 0. ,  0. , -2. ]]),\n",
       " array([[ 1. ,  0. ,  0. ],\n",
       "        [-1.5,  1. ,  0. ],\n",
       "        [-9. ,  5. ,  1. ]])]"
      ]
     },
     "execution_count": 25,
     "metadata": {},
     "output_type": "execute_result"
    }
   ],
   "source": [
    "# matrix_set_eliminated= eliminate_forward(matrix_set)\n",
    "matrix_set_eliminated= eliminate_backward(matrix_set)\n",
    "np.split(matrix_set_eliminated,[n],axis=1)"
   ]
  },
  {
   "cell_type": "code",
   "execution_count": null,
   "metadata": {},
   "outputs": [],
   "source": []
  }
 ],
 "metadata": {
  "kernelspec": {
   "display_name": "Python 3",
   "language": "python",
   "name": "python3"
  },
  "language_info": {
   "codemirror_mode": {
    "name": "ipython",
    "version": 3
   },
   "file_extension": ".py",
   "mimetype": "text/x-python",
   "name": "python",
   "nbconvert_exporter": "python",
   "pygments_lexer": "ipython3",
   "version": "3.7.7"
  }
 },
 "nbformat": 4,
 "nbformat_minor": 2
}
