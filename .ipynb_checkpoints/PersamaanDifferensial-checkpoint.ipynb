{
 "cells": [
  {
   "cell_type": "code",
   "execution_count": 1,
   "metadata": {},
   "outputs": [],
   "source": [
    "import numpy as np\n",
    "import math as math"
   ]
  },
  {
   "cell_type": "code",
   "execution_count": 2,
   "metadata": {},
   "outputs": [],
   "source": [
    "def equation(t,y):\n",
    "    return (t-y)/2"
   ]
  },
  {
   "cell_type": "code",
   "execution_count": 3,
   "metadata": {},
   "outputs": [
    {
     "data": {
      "text/plain": [
       "[1, 0.875, 0.90625, 1.0546875, 1.291015625]"
      ]
     },
     "execution_count": 3,
     "metadata": {},
     "output_type": "execute_result"
    }
   ],
   "source": [
    "def euler_method(f=equation,t0=0,y0=1,n=4,h=0.5):\n",
    "    result=[]\n",
    "    t=t0\n",
    "    y=y0\n",
    "    result.append(y0)\n",
    "    for k in range(n):\n",
    "        t += h\n",
    "        y += h*f(t,y)\n",
    "        result.append(y)\n",
    "    return result  \n",
    "\n",
    "euler_method()"
   ]
  },
  {
   "cell_type": "code",
   "execution_count": 6,
   "metadata": {},
   "outputs": [
    {
     "data": {
      "text/plain": [
       "[1, 0.84375, 0.8310546875, 0.930511474609375, 1.1175870895385742]"
      ]
     },
     "execution_count": 6,
     "metadata": {},
     "output_type": "execute_result"
    }
   ],
   "source": [
    "def heun_method(f=equation,t0=0,y0=1,n=4,h=0.5):\n",
    "    result=[]\n",
    "    t=t0\n",
    "    y=y0\n",
    "    result.append(y0)\n",
    "    for k in range(n):\n",
    "        f_prev = f(t,y)\n",
    "        P = y + h*f_prev\n",
    "        t += h\n",
    "        y += h/2 * (f_prev+f(t,P))\n",
    "        result.append(y)\n",
    "    return result  \n",
    "\n",
    "heun_method() "
   ]
  },
  {
   "cell_type": "code",
   "execution_count": 7,
   "metadata": {},
   "outputs": [
    {
     "data": {
      "text/plain": [
       "[1, 0.875, 0.8671875, 0.95458984375, 1.119354248046875]"
      ]
     },
     "execution_count": 7,
     "metadata": {},
     "output_type": "execute_result"
    }
   ],
   "source": [
    "def range_kutta_2(f=equation,t0=0,y0=1,n=4,h=0.5):\n",
    "    result=[]\n",
    "    t=t0\n",
    "    y=y0\n",
    "    result.append(y0)\n",
    "    for k in range(n):\n",
    "        f_prev=f(t,y)\n",
    "        t += h\n",
    "        y += h/2*(f_prev+f(t,y+f_prev))\n",
    "        result.append(y)\n",
    "    return result\n",
    "range_kutta_2()"
   ]
  },
  {
   "cell_type": "code",
   "execution_count": 13,
   "metadata": {},
   "outputs": [
    {
     "data": {
      "text/plain": [
       "[1, 0.83642578125, 0.8196284770965576, 0.9171422953950241, 1.1036825982202458]"
      ]
     },
     "execution_count": 13,
     "metadata": {},
     "output_type": "execute_result"
    }
   ],
   "source": [
    "def range_kutta_4(f=equation,t0=0,y0=1,n=4,h=0.5):\n",
    "    result=[]\n",
    "    t=t0\n",
    "    y=y0\n",
    "    result.append(y0)\n",
    "    for k in range(n):\n",
    "        \n",
    "        K1 = h*f(t,y)\n",
    "        K2 = h*f(t+h/2,y+K1/2)\n",
    "        K3 = h*f(t+h/2,y+K2/2)\n",
    "        K4 = h*f(t+h,y+K3)\n",
    "        y += (K1+2*K2+2*K3+K4)/6\n",
    "        t += h\n",
    "        result.append(y)\n",
    "    return result\n",
    "range_kutta_4()"
   ]
  },
  {
   "cell_type": "code",
   "execution_count": 31,
   "metadata": {},
   "outputs": [
    {
     "data": {
      "text/plain": [
       "[0.84375, 0.8310546875, 0.930511474609375, 1.1175870895385742]"
      ]
     },
     "execution_count": 31,
     "metadata": {},
     "output_type": "execute_result"
    }
   ],
   "source": [
    "def adam_bashfort(method,f=equation,h=0.5):\n",
    "    predictor = method()[-4:]\n",
    "    #TODO\n",
    "    return predictor\n",
    "adam_bashfort(heun_method)"
   ]
  },
  {
   "cell_type": "code",
   "execution_count": null,
   "metadata": {},
   "outputs": [],
   "source": []
  }
 ],
 "metadata": {
  "kernelspec": {
   "display_name": "Python 3",
   "language": "python",
   "name": "python3"
  },
  "language_info": {
   "codemirror_mode": {
    "name": "ipython",
    "version": 3
   },
   "file_extension": ".py",
   "mimetype": "text/x-python",
   "name": "python",
   "nbconvert_exporter": "python",
   "pygments_lexer": "ipython3",
   "version": "3.7.7"
  }
 },
 "nbformat": 4,
 "nbformat_minor": 2
}
