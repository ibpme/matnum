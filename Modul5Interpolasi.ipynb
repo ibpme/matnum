{
 "cells": [
  {
   "cell_type": "code",
   "execution_count": 13,
   "metadata": {},
   "outputs": [],
   "source": [
    "from random import randint\n",
    "from math import exp\n",
    "\n",
    "n = 10\n",
    "x_values = [float(i) for i in range(n+1)]\n",
    "f_values = [float(exp(i)) for i in range(n+1) ]"
   ]
  },
  {
   "cell_type": "code",
   "execution_count": 14,
   "metadata": {},
   "outputs": [],
   "source": [
    "def L(x,i):\n",
    "    numerator = 1\n",
    "    denominator = 1\n",
    "    for j in range(n+1):\n",
    "        if i == j :\n",
    "            continue\n",
    "        else:\n",
    "            numerator = numerator*(x-x_values[j])\n",
    "            denominator = denominator*(x_values[i]-x_values[j])\n",
    "    return numerator/denominator       "
   ]
  },
  {
   "cell_type": "code",
   "execution_count": 15,
   "metadata": {},
   "outputs": [],
   "source": [
    "def lagrange(x):\n",
    "    sum_lagrange = 0\n",
    "    for i in range(n+1):\n",
    "        sum_lagrange += f_values[i]*L(x,i)\n",
    "    return sum_lagrange "
   ]
  },
  {
   "cell_type": "code",
   "execution_count": 26,
   "metadata": {},
   "outputs": [],
   "source": [
    "def newton_f(x_array):\n",
    "    if len(x_array) == 1 :\n",
    "        k=int(x_array[0])\n",
    "        return x_values[k]\n",
    "    else:\n",
    "        print(x_array[:-1],x_array[1:])\n",
    "        return (newton_f(x_array[:-1])-newton_f(x_array[1:]))/(x_values[x_array[-1]]-x_values[x_array[0]])"
   ]
  },
  {
   "cell_type": "code",
   "execution_count": 27,
   "metadata": {},
   "outputs": [],
   "source": [
    "def newton(x):\n",
    "    sum_newton = 0\n",
    "    for i in range(n+1):\n",
    "        polynomial = 1\n",
    "        for k in range(i-1):\n",
    "            polynomial = polynomial*(x-x_values[k])\n",
    "        sum_newton += newton_f(x_values[:i+1])*polynomial\n",
    "    return sum_newton"
   ]
  }
 ],
 "metadata": {
  "kernelspec": {
   "display_name": "Python 3",
   "language": "python",
   "name": "python3"
  },
  "language_info": {
   "codemirror_mode": {
    "name": "ipython",
    "version": 3
   },
   "file_extension": ".py",
   "mimetype": "text/x-python",
   "name": "python",
   "nbconvert_exporter": "python",
   "pygments_lexer": "ipython3",
   "version": "3.7.7"
  }
 },
 "nbformat": 4,
 "nbformat_minor": 2
}
