{
  "nbformat": 4,
  "nbformat_minor": 0,
  "metadata": {
    "colab": {
      "name": "4_10118004_6_1.ipynb",
      "provenance": [],
      "collapsed_sections": []
    },
    "kernelspec": {
      "name": "python3",
      "display_name": "Python 3"
    }
  },
  "cells": [
    {
      "cell_type": "markdown",
      "metadata": {
        "id": "2KqiELXCYp6q"
      },
      "source": [
        "# Interpolasi"
      ]
    },
    {
      "cell_type": "markdown",
      "metadata": {
        "id": "H12_vNzYZVxK"
      },
      "source": [
        "## Soal 1"
      ]
    },
    {
      "cell_type": "markdown",
      "metadata": {
        "id": "4GvydAguZsxY"
      },
      "source": [
        "Jelaskan menurut Anda apa yang mendasari metode polinom interpolasi!"
      ]
    },
    {
      "cell_type": "markdown",
      "metadata": {
        "id": "NMcwLyHOL5nh"
      },
      "source": [
        "Metode Polinom Interpolasi didasari oleh aproksimasi linear lalu dikembangkan menjadi aproksimasi polinom dengan derajat lebih tinggi untuk mencari estimasi dari nilai titik baru dari kumpulan titik-titik yang tersedia.\n",
        "\n",
        "Salah satu intuisinya adalah mencari rata-rata nilai dari titik-titik yang tersedia untuk mencari titik baru"
      ]
    },
    {
      "cell_type": "markdown",
      "metadata": {
        "id": "nVKL9DTPYuJh"
      },
      "source": [
        "## Soal 2"
      ]
    },
    {
      "cell_type": "markdown",
      "metadata": {
        "id": "caBgVILTDw6c"
      },
      "source": [
        "Misalkan diberikan 6 titik $\\{ (x_1, y_1), (x_2, y_2), ..., (x_6, y_6) \\}$ dari suatu fungsi $f(x)$, dengan $x_1 < x_2 < ... < x_6$. Jika diberikan suatu nilai $a$ dengan $x_1 < a < x_6$, lengkapi fungsi **approx_lagrange** dibawah untuk menentukan approksimasi dari $f(a)$ menggunakan interpolasi Lagrange untuk $P_5(x)$."
      ]
    },
    {
      "cell_type": "markdown",
      "metadata": {
        "id": "MTol6IOgJjxF"
      },
      "source": [
        "---\n",
        "\n",
        "**Ketentuan Khusus:**\n",
        "\n",
        "- Modul yang dapat digunakan:\n",
        "  - numpy.array\n",
        "\n",
        "---\n",
        "**Asumsi:**\n",
        "- $x_1 < x_2 < ... < x_6$\n",
        "- $x_1, x_2, ..., x_6, y_1, y_2, ..., y_6, a$ bernilai riil\n",
        "\n",
        "---\n",
        "**Fungsi approx_lagrange:**\n",
        "- Deskripsi: Mengaproksimasi titik $f(a)$ menggunakan metode polinom Lagrange, dengan diberikan array $x = [x_1, x_2, ..., x_6]$ dan $y = [y_1, y_2, ..., y_6]$ serta $a$.\n",
        "- Masukan:\n",
        "  - $x$: Array $[x_1, x_2, ..., x_6]$ (elemennya riil)\n",
        "  - $y$: Array $[y_1, y_2, ..., y_6]$ (elemennya riil)\n",
        "  - $a$: Titik yang akan diaproksimasi nilai $f(a)$ (riil)\n",
        "- Keluaran:\n",
        "  - $f_a$: Nilai approksimasi dari $f(a)$ menggunakan polinom Lagrange"
      ]
    },
    {
      "cell_type": "code",
      "metadata": {
        "id": "Ufsms9TfBIBi"
      },
      "source": [
        "### Jawaban 2 ###\n",
        "def approx_lagrange(x, y, a):\n",
        "    # Lengkapi fungsi disini\n",
        "    n = len(x)\n",
        "    def L(i):\n",
        "        \"\"\"Fungsi untuk mencari nilai Li yang ada pada modul \"\"\"\n",
        "        numerator = 1\n",
        "        denominator = 1\n",
        "        for j in range(n):\n",
        "            if i == j :\n",
        "                continue\n",
        "            else:\n",
        "                numerator = numerator*(a-x[j])\n",
        "                denominator = denominator*(x[i]-x[j])\n",
        "        return numerator/denominator  \n",
        "    f_a = 0\n",
        "    for i in range(n):\n",
        "        f_a += y[i]*L(i)\n",
        "    return f_a"
      ],
      "execution_count": 1,
      "outputs": []
    },
    {
      "cell_type": "code",
      "metadata": {
        "id": "NlFNDj3PbCTA",
        "outputId": "85dd643a-d424-4bcc-cd7a-7eccac64e8b1",
        "colab": {
          "base_uri": "https://localhost:8080/",
          "height": 34
        }
      },
      "source": [
        "### Periksa Jawaban 2 ###\n",
        "\n",
        "approx_lagrange([0, 1, 2, 3, 4, 5], [0**5, 1**5, 2**5, 3**5, 4**5, 5**5], 3.5) == 3.5 ** 5"
      ],
      "execution_count": 2,
      "outputs": [
        {
          "output_type": "execute_result",
          "data": {
            "text/plain": [
              "True"
            ]
          },
          "metadata": {
            "tags": []
          },
          "execution_count": 2
        }
      ]
    },
    {
      "cell_type": "markdown",
      "metadata": {
        "id": "l2lDqfHnZZE4"
      },
      "source": [
        "## Soal 3"
      ]
    },
    {
      "cell_type": "markdown",
      "metadata": {
        "id": "K0V-BjhoZkPY"
      },
      "source": [
        "Gunakan matplotlib.pyplot untuk membuat dua grafik berikut dalam satu frame:\n",
        "1. Grafik $y = sin(x) $, untuk x = np.arange(0, 5.25, 0.25)\n",
        "2. Hasil approx_lagrange(\\[0, 1, 2, 3, 4, 5\\], \\[sin(0), sin(1), sin(2), sin(3), sin(4), sin(5)\\], a), untuk a = 0.5, 1.5, 2.5, 3.4, 4.5\n",
        "\n",
        "Contoh hasil:\n",
        "\n",
        "\n",
        "![image.png](data:image/png;base64,iVBORw0KGgoAAAANSUhEUgAAAYIAAAD4CAYAAADhNOGaAAAgAElEQVR4Ae2dCXhV1bn+37be2umv12rtY1sjYrEIDrXO1jprLa04ttf2aq1i8aq1Tm0NMgQZRQSRyRFEC0WcRUKAJIAMMoUhhEHmGcIYCIEkJPD9n29ln7A52Sc5OTn7nD2863nC2cPaa/h9m/Xuvdba6wMYSIAESIAESIAESIAESIAESIAESIAESIAESIAESIAESIAESIAESIAESIAESIAESIAESIAESMDzBE4++WS56KKL+EcGvAd4D/AeaMQ9AGCn5xv4eAuoIsBAAiRAAiTQOAIACuJtZz0fj0LQOOMzNgmQAAkoAQoB7wMSIAESCDkBCkHIbwBWnwRIgAQoBLwHSIAEEiZw6NAhWbt2rSxbtox/PmCgtlKbRQcKQTQR7pMACcRNQBuWnTt3ypEjR+K+hhHTQ0BtpLZSm0UHt4VgOIAdAJbEGGn+GoCBAFYDWAzgF7Z49wNYZf3pdoOBg8XR5vXYfuEYkf6tRbJOrPnVfQZfE9A3AYqAf0yotlKbRQe3heBqq3GPJQRtAOQAUEG4HMAcq7X/PoC1APT3JGtbf+sNFIJo83poXxv9Hj8UyTrh6J/uUww8ZKTGF8WpUWl8KrwilQScbOa2EGjD3ayeN4LXAfzR1rqvAHCadUzPRUJ0vMjxY34pBKm8nRqZl3kTsIlARBD0OINvCTg1Kr6tTEgK7mSzdAvBOABX2VrzfAAXA/gHgE62452tY7ZDtZvtrUoUZGRkhMSU/qpm9eEjckS7gyKNv+33cNaJcs/rs+Rv/1kgWZ8tkUH5K2X0nA0yaWmxLNiwRzbuPiAHK6v9VeEQldapUUl19b/+9a/LBRdcIK1bt5a7775bDhw4ELMIb7/9tjz22GMxz7t5onPnzpKbm1tvFvfff7988MEH9cZp6kknmwVBCGoVgW8ETb1Fknd9+aFqyVtWLP/8YJFc2G2SbOrc3FEIdnX/qdw1dKZc23eKnNtlgpzx7DjHv3M658iv+kyWu1+dKSNnr5eKKopD8qyVeEpOjUriqSV25Xe/+93aC//0pz9Jv379avejN9IpBNFlcdoPqxBEd/mwa8jp7vDJsb0HD8mnCzfLIyMLRBtubdS1cX/8Pwtkweevy5HuDY8RqIBsLjkohZtKJH95sYyZt1GGTlkt3T5fKk+MXiC3DJhm0r2sZ54Mm76Wbwtpvje8JgSvvvqqPPLII7J792657bbb5LzzzpPLLrtMCgsLDamIEJSWlkqzZs1qp1Lu27evdv+aa66Rf/3rX3LJJZdIixYtZNq0aeba8vJy+ctf/iLnnnuu/PznP5fJkyfXpql53XjjjXLGGWfIoEGDjBhpHM1by6LB3sg///zzcvHFF5u3mL/+9a+1A+72OOYiF/5xslm63wh+GzVYPNd6vNdB4nXWQLEOEuu2Hqs38I3AhbumgSSL95XLv2etl3vfmi0/fS7bNNIX98iVDh8vlqkrdkhl1eGjKSRh1pDOepi+cqf8/rUvTV4XdZ8kr05dLfsrqo7mw62UEbA3Kl3HLpE/vPZlUv80zYZC5I2gqqpK2rZtK0OHDpW//e1v0rVrV3Npfn6+6TrSnYgQ6LY26p988omJ8/rrr8vTTz9ttlUIItvZ2dlyww03mOMvvfSSPPDAA2Z7+fLlcvrpp4uKg6Z51llniYrLjh075IQTThAVJA1PPvmkvPzyy2bb3shHxEFP3HvvvTJ27Ng6ccwBF/6x2yySvNtCMBrANgBVADYDaAfg/6w/bdR1ttAQAGsAFFnjA5HG/kFrWqlOLX0gcrC+XwpBxKzu/m4vLTeN7+1DZpjGWJ/8r3lxsvTKXiYF6/fI4cOpmVM+e80uI0Ca//ldJ8qA3JWy90Ddj2XcpRHu1O2NSrqEIDJGoOMEKgCVlZXmiX3NmjW1xvnJT34i+tRvF4IZM2YY4dBIl19+uRQVFZn4KgR6TkNxcbFp5HX79ttvFxWVSLjqqqvMm4am+dBDD0UOG4HYvHmz2R82bJg88cQTZtsuBB9++KFceuml5u3iRz/6kfTu3btOnNoEk7xht1kkabeFoL52O+nnKAQRs7r3+3nhFtPoauP7u4HTZWDeSllRXFr7autezrFTXrixRNqNmGdEqXWXCdInZ7ns2l8R+wKeSRoBp0YlaYnHmVDkjcAeXbtlGhICjX/++efLlClTTDdQ5HoVgnnz5pld/QBLu3s01CcE9gFoja/XabALT0QI9C3i1FNPlY0bN5o4WVlZon8aInHMjkv/ONmMQuAS7KAlq/3/T7630DS2bQfPkFXbSz1XxaVb9smjo+ZLs8xx0rJTjhlX0K4rBvcIODUq7uXmnLKTEDz++OPSrVs3c4E29CoMGuwNs+5rd89pp51mupNMBBGJJQQ6CP3ggw+aaCtWrBCdpVhRUVEnzYaEoKSkxAjBwYMHZf/+/WacgEKQxPcCvhFEbuXk/n65epdc0StPmnfIlpdzV8ihalu/f3KzSkpqq7bvl6feW2jK26LjeOn0SZFs2hN7SmFSMg1pIl4VgoYGiyPm2rZtm3zrW98SbZwjIZYQ1DdY3Jg3As2nY8eO0rx5c7nyyivNWAWFgEIQuf8896tTNHtmLzNP2Dq9U+f1+yms31UmmR8VmkHsszpkm6msW/ce9FMVPF9WLwhBUyDpnH0drA1TcLIZu4bCdAc0oq7Lt+2TX7/8hekKeu7jxXKg0r+zcraUHDQfq53dcbzojCadmsqQHAJOjUpyUnY/FR1Y1tk+2s0TpuBkMwpBmO6AOOqqM37e+GKNtHhuvFzUPdfM5Y/jMl9EWVlcKr98IV9+1mm85BRt9UWZvV5Ip0bF62UOe/mcbEYhCPtdYau/fsj1P6/XzM//6zvzAjnzZuf+ColMe9XvD7hypu0GSGDTqVFJIBlekkICTjajEKTQAF7NShvDTxZslnOzJkirzjkyZu7GQDeQ+vXyY6Pmm26vZz8s9Pzgt1fvGy2XU6Pi5fKybM42oxCE/M4oOVBZ2yjeOXSmbNgVjtk12gX20sSvjBj88Y1Z/BAtwf8HFIIEwaXxMiebUQjSaJB0Z61LNeiaPTqjZvDkVaKrhIYtfFiwycwquv6lKaKzjBgaR8CpUWlcCoydagJONqMQpNoKHshPu4J6j19unoZv6DdVijbv9UCp0lcEXarigucnmlVS562rWSAsfaXxV85OjUo6aqBrBgEQXQMoHWHLli1y1113JSVrrcvSpUtr04pn+erayHFsONmMQhAHuCBFURHo/vlSIwKZHy0W7S9nEFm7s8wsha2zpXQFVYb4CDg1KvVemYSFB53S/8Mf/iC69k+XLl2cTjf6mC5gl67g9jITTjajEKTL2mnKt++Emn5xdQLDGTPHGkHHS3T1TF1HSb+gJp9j+TjtOTUqTvHMMZfcleoyDbpwm34PcPbZZ5usdFmJX/3qV9KmTRtz7OGHH5bDh2u+iNclKXRV0FatWsn1119vVgzVi/SLYl0gTlco0KUn8vLyzNIUuuy0rjqqy0nMnTvXLG2tXxmXlZWZNHSxunXr1pmlIjQdXcYinmWp33jjDbMUta53dOeddxqHOjNnzpSTTjrJLImti+itXr36mPWHnMqkeeqyFiqCF154oVnIrr43IyebUQjMbROOf9T7lzZyOlMmVSuE+o2sLpv9zPuLDCf1f8A3pvot6NSoxLzCJXelI0eOrF0D6IorrpCCggKzkNzxxx9vFp6rrq42vgIinr+0C0mv0aB+ASLLQ6gQqC8DDdrQ64qlkY/N7rvvvtrlpHV5iGeeeUYeffRR6dWrl4kfLQTxLEu9a9cuc63+o2kOHDjQ7Ee/EUT26yuTCkHk+iFDhki7du1q047ecLIZhSCaUkD335y2xjRuunBcGAeFG2NWfRPQwXMVTfWexpVMY9NzalRixo7hrlT0eBPCb3/7W5k0aZJJ4ZVXXjGNdOSNIJKsfTloXbY60vWjK5Tqk7cGFYKpU6ea7UWLFpk3isj1+iR+xx13mF1d5lqf4nUZaRUZDdFCEM+y1JqXdmfpG4c6ydG3Fg2Rht/s2PbrK5MKQWTp69mzZ9f6UIikYf91shmFwE4ooNvvzlpvGjX1HFbl8QXjvGSCcYVbRZelUBeZupAdQ10CTo1K3VjWERfeCHRxuW9/+9tmJVBtDPUpXh3GqPewq6++urYoKgTaHaQhWggiK5PaF5urr9HdunWrWTDunHPOMd1Dmma0EETeMvSclstpWWpt/DUfDdqdpAKgIVEhiOShS2hrXWIFJ5tRCGLRCshxdfWoT7btRsw91ltYQOrndjV0oT31gnZe1gSZubpmjXm38/RT+k6NSszyuzBGoJ7F2rdvf0yWKgDa5aOriq5du9aMDdx8882izmA0aNfQ6NGjzXb37t2NMxvdsQuBdsOooKxatcrE08Z5wIABZvvWW2+VUaNGSY8ePWq7lRIRgpNPPlm2b99u3GWqm8uIEOgaSMOHDzd56T8RYaivTHax8aIQ3AJA/RCrl7FMh4VGXwawyPpbCWCvLc5h27mxtuMxN7kMde29YzZ09ouuza9uJNnXfSybxuxt3H1Abuo/1fhhDvtU22hujRICvTjJs4auvfZaycnJOaZY2j3UsmXLegeLn3rqKTO4e9111x0zWBxxSKMJOg3MvvPOO2ZgV89rt5B2D6nXskSEQF1q6luB+kbWxj8iBOodTd829E2lMYPFXn0j+IblgrI5gG8CKATQKmYrDjwOYLjtfJltO65NCsHR/w85RdvMevzq2/dgJaeIHiWT2Nb2feXGJ8OlPXOFS1kfZdhoITh6qatbOkagYwdOwcmRjVO8oB5zspmbXUNXAJhoa8E7ANC/WOFLADfZTlIIErwTJy/fbr6W1cXV6NQ9QYgOl+nS3OoK8zcDpklZRfrmmTsULW2HnBqVtBXGljGFwAYjatPJZm4Kwd0A3rI17PcBGGzbt2+eYTm517eISKi2CjcbwO2Rgw6/7a14Beo6Luxhxqqdol652rwyTdS9JENyCUxdscO8aT3w9lzOvuKic8m9uVKUmpeF4FkAg6Ia+R9b+9q1tB7AWVHn6+yGvWtoztrdxlfvzf2/kN1llSm6rcKXzcjZNbOw9KO8sAdtVPjhnX/uArVVqoWgMV1DCwFcWadlP3pgBAB9w6g3hFkIFm4sMd0W1/WdIjtKK/xzZ/q0pD3G1SzTMXzGWp/WIDnF1lk5OkhJMUgOTzdTURuprdRm0cHNrqHjAKwFcKZtsLi1Q0ve0nri/5rt3EkAjrf2TwGwqoGBZhM1rEKwZMteM73xqj75woHM6FvcnX39Mrv9u/PkzMxxkru02J1MfJDqoUOHTMOiT5n88z4DFQG1WXRwUwi0cW4DQKeFrgHQ0WrYuwFoa23rT1cAL9j2dVPfDoqsmUb62y7qvONuGIVgRXGpWTXz8l55otMcGVJHQGdj3TpoOqeVpg45c3KJgNtC4Nhgu3UwbEKgK2aqM3b9022G1BPYXlouV/bOF04rTT175pg8AhSC5LFMaUrqe/eKXnnmbUCdsjOkj8BX20rN+MwtA6Zxum76zMCcm0CAQtAEeOm6VBeN+9Obs8w6OIs3hdupTLpsEJ1vZFrpX4bP4XpO0XC473kCFALPm6huAftNWmHWD3pv7oa6J3kkbQRGzd5g7NL50yLOokmbFZhxIgQoBIlQS+M1X6zYYdYPenrMIjY2abRDrKx7Zi8zYjBset0perGu4XESSDcBCkG6LdCI/HVq6IXdJol+MMb1gxoBLoVRdVrpw+8WGLGeFOJppSlEzqySQIBCkASIqUjiUPVhuXPoTGnVOUdW7+Da+KlgnmgeKtJtB003X3lzDCdRirwulQQoBKmk3YS8Ig7nxy7a0oRUeGmqCESmlXZ6vrNUvdRKjBcudcyiyzAzkIDHCFAIPGYQp+LoktLqXEYHIRn8Q2DLtHfkYJdTRLJOOPrX44cUA/+YMDQlpRB43NTrd5XJuV0mmK6Giir6FfC4uY4tnguuGY/NgHskkBwCFILkcHQlFfUqpstJn991IpePcIWwy4m65Kzd5VIz+RASoBB42OiZHy02XUJ5y8K7qJmHzdNw0fhG0DAjxvAEAQqBJ8xQtxAfL9hkRKD3+OV1T/KIPwg4OGsvz/qBVM6vcZzuj0qwlGEgQCHwoJV1RdGWnXJE/Q1XVR/2YAlZpLgJ2Jy1l/dpKY93yOSgf9zwGDFVBCgEqSIdZz7qC/eGflPlou6TRB2mMwSLQGQaMLv7gmVXv9eGQuAhC6oHob+PXmCcncxctdNDJWNRkkVAZ379+uUv5BfdJtGTXLKgMp0mE6AQNBlh8hL496waX7gD81YmL1Gm5DkC2vV3dsfxcv/wOVwvynPWCWeB3BaCWwCsALAaQKaDQ5q/ANgJYJH195Atzv2Wi0p1U6nbDQY/O6bRpQhaPDde/jxsjuh6NQzBJvDOl+vMZIARM9cFu6KsnS8IuCkE37BcVDa3+SxuFdWaqxAMjjqmu9+3/B3rr/ovVt/H+ltv8KsQ7D1wSNTfsDqa2V1W6Ysbh4VsGgHtBlTfBS06jhd9Q2AggXQScFMIrgAw0dZydwCgf/YQSwj+COB1W0Td1mP1Bj8KgTYI7UbMk58+ly3zN+xJ573AvFNMYEdphZkUoGMG+vEgAwmki4CbQnA3gLdsLfd9Dk//KgTbACwG8CGA0634/wDQyXZtZwB6zCm0typRkJGRkS6Ojc/XmlZ4JOtE2dS5uUx5f3Dj0+AVvicwefl200XU7fOlvq8LK+BfAukWgpMBHG+17g8DmGxtN0YIasXBN28EDh8aHeFiZP79X9TEkutigrqooDodYiCBdBBwUwji6RqqbcQB6JjCPutAsLuGuPRAOu51z+ap3UL67cjFPXI5RuRZKwW7YG4KwXHWIO+ZtsHi1vaWH8Bptv07AMy29nWQeJ01QKyDxLqtx+oNvnkj4GJkwf5flUDtlmypmTX20DvzOKU0AX68pGkE3BQCbbTbAFhpzR7qaLXi3QC0tbZ7A1gKoBDAFAAtbS39g9a0U516+oDteMxNvwhB5YvnHF2f3r5Wvb4pMISWwJvT1pguov/M2RBaBqx4egi4LQQxG203TvhBCLQboGfvrnIw6wfHigHHCNLzP8BDuer3I//75myzzhTdkXrIMCEoCoUgxUbuk7PcPPUtnfCmiBkrOLHmVweQGUJPoHhfuVzw/ET53cDpUlnFBQdDf0OkCACFIEWgNZtFG0vMOkL//GBRCnNlVn4jEHFN+kIOlyD3m+38Wl4KQYosp4uN3dR/qlzWM0/2HjyUolyZjV8JPPthoTTLHCdfrt7l1yqw3D4iQCFIkbH6TvjKdAnpB0QMJNAQAV2O/Nq+U+TyXnmiS5AwkICbBCgEbtK10tYF5Zp3yJZn3meXUApwByYL7Uo8q0O2PDpyPqeUBsaq3qwIhcBlu+iA3839v5BLe+byyc5l1kFMfvDkVeZN8rNFW4JYPdbJIwQoBC4bot/Emi6h/OV0QO8y6kAmr65Kbx003Tiy2cOVaQNpYy9UikLgohWKNtd0CT01ZqGLuTDpoBNYumUfuxaDbuQ0149C4JIBtEtIlxe+pAe7hFxCHKpkI9+fTF9JF6ahMnyKKkshcAl0/0krTN9u7lJ2CbmEOFTJ6hfpOotIHRgdrKTvglAZPwWVpRC4AFkXENPZHk++xy4hF/CGNslZa3aZh4ue2ctCy4AVd4cAhSDJXA9VH5ZbBkyTi7rnSskBup1MMt7QJ5f5UaH5Ol2nJDOQQLIIUAiSRdJKZ0DuSvPUNnHJtiSnzORIQMxX6eq34DcDpok+dDCQQDIIUAiSQdFKQ2d3aJfQ30cvSGKqTIoEjiWQU7TVPGy8OnX1sSe4RwIJEqAQJAgu+jJ9OmvzinYJTRLO946mw/1kE2j/7jw5u+N4WbezLNlJM70QEnBbCG4BsMJyMJPp4IPgaQDLLOf1+QDOsMU5DGCR9TfWdjzmZjr9EQzMq+kS0qc1BhJwm4AuV31ulwlyz+uzuPyE27BDkL6bQqA+iNcAaG5zVdkqqhW/DsB3rGOPABhjO19m245rM11CsHzbPvnpc9ny2Kj5IbhlWEWvEBg1e4PpIhozd6NXisRy+JSAm0LQWOf1FwKYaWvxfSEEugSAOhH5RbdJsmt/hU9vAxbbjwTUo9nvX/tSzsuaINtLy/1YBZbZIwTcFIK7Abxla9jvAzDYth+9qec62Q5WW4VTh/a3245Hb7a34hVkZGSkHOvQKavNU1n2YnYJpRw+MxR1admi43izQilxkECiBLwiBPcC0Ab/eFsr/2NrW7uW1gM4y3bOcTPVXUMbdh2Qn3UaLzpwx0AC6SIQWaGUU5bTZQH/5+umEMTbNXQjgOUATnVs3WsOjgCgbxj1hlQKwZEjR+TPw+ZIq845snXvQf/fCayBbwnojDVd10qXOt9XTic2vjVkGgvuphAcB2AtgDNtg8Wto1pyHRfQAeUWUcdPsr0dnAJgFYDogeaoS4BUCsHnhVtMl9Cw6WvTaD5mTQI1BBZa/rA7frKYSEig0QTcFAJtqNsAWGk19h2tlrsbgLbWdh6A7Q7TRK8EUASg0PptV6fVdziQKiFQn8P6dedvB06T6sNHGg2dF5CAGwS6fb7UPJzMXbfbjeSZZoAJuC0EDs21e4dSJQSdPiniei8B/k/h16odqKySX76QL9e/NEV0tVIGEoiXAIUgXlJWvAUb9kizzHGS9dmSRl7J6CTgPoGpK3aYtwL1jMdAAvESoBDES0pE9JsBXVn0sp55UspBuUaQY9RUEnjqvYXmA8evtpWmMlvm5WMCFIJGGO+NL9aYpy0uI9EIaIyacgK7yyrlwm6T5LbBMziGlXL6/syQQhCn3TbtOSAtO+XIg2/P5doucTJjtPQR+HThZvPQ8vYMzmpLnxX8kzOFIA5b6TcD7UbMNUKggsBAAl4noPfs/cPnyDmdc4T3rNetlf7yUQjisEFO0TbzdPX6F1z/PQ5cjOIRApG3WH2IUWFgIIFYBCgEschYx/dXVJnBYf1ykx6hGoDF054joA8vZzw7TibQY57nbOOlAlEIGrBG17FLzHTR+Rv2NBCTp0nAewQiy09c3itPyiqqvFdAlsgTBCgE9ZhBHYSfmTlO+Nl+PZB4yvMECtbvMW8FPcYt9XxZWcD0EKAQxOCuS0eonwFdSkKXlGAgAT8TyPxosTTvkC3qV5uBBKIJUAiiiVj7w2esNU9RYxdtiRGDh0nAPwRKDlQa50m3D5kh6tCGgQTsBCgEdhrWti4r3brLBLlv2BzOtnDgw0P+JPDR/E3m4Wbk7PX+rABL7RoBCoED2offLZCzO44XdTzDQAJBIaBTSNXZvbq23FFKt6pBsWsy6kEhiKKYu7TYPDWp1ycGEggaAePa8rnx8uR7C4NWNdanCQQoBDZ4uozvlb3z5ab+U6Wy6rDtDDdJIDgEdGVS/bZg5qqdwakUa9IkAhQCG76e2cvMf5B5dOxho8LNoBFQXwVXvzhZrus7RSqq6LcgaPZNpD5uC8EtAFYAWA0g08EljTqrH2OdnwOgmS1OB+u4Xv9r2/GYm01xTKPT6nR63bMfFibCkdeQgK8IRPwWDMhd6atys7DuEHBTCL5huahsbvNZHO13+FEAr1kt+z2WKOiuxlM3lSoU6vNY/RprevWGRIVAvxnQJXt/0W2S6DQ7BhIIA4HHRs2XFh3Hy9qdZWGoLutYDwE3heAKABNtLbc+4eufPeh5jadBnd3vAvA1K549rj2eFb3uT6JC8O6s9aZL6OMFm+pBxVMkECwCxfvK5dwuE+Tet2ZzmnSwTNvo2rgpBHcDeMvWXN8HYLBtXzeXAPiJ7Zg++Z9ixbvXdnwYAE3PKbS3KlGQkZHRaAB6gU4X/dObs/ifISF6vMjPBEbMXGcegj7jh5N+NmOTyx4EIagVh0TfCHR+9T66nmzyzcQE/EdAu0VvHcSlVPxnueSW2E0h8E3XUHKRMjUS8BeByOKKnT4p8lfBWdqkEXBTCLTPf6012PtNa/C3de3je83GY1GDxe9b5zWefbBY03FtsDhpNJkQCfiUQNZnNcutL9xY4tMasNhNIeCmEGib3gbASmvWT0erke8GoK21/S0AH1jTROcC0BlGkaDxdcxAp4/+JnKwvt9Eu4aaApDXkkAQCJSWH5JLeuRKm1emSVU1P6YMgk0bUwe3haC+djvp5ygEjTE945LAsQTGFW41A8fDptPh/bFkgr9HIQi+jVlDEoiLgE6a+POwOdKqc45s21se1zWMFAwCFIJg2JG1IIGkENAVd3Xl3f/7d0FS0mMi/iBAIfCHnVhKEkgZAV15Vxely19enLI8mVF6CVAI0sufuZOA5wjoyrs39Jsqv3whXw5WclE6zxnIhQJRCFyAyiRJwO8EZq3ZZd4KXshZ7veqsPxxEKAQxAGJUUggjASeeX+RnNUhW5ZtpcP7oNufQhB0C7N+JJAggT1lNQ7v2w6eIboUBUNwCVAIgmtb1owEmkzg04WbTRfR8Bn8tqDJMD2cAIXAw8Zh0Ugg3QT024L7hs2RczrnyOaSg+kuDvN3iQCFwCWwTJYEgkJg4+4D0rJTjjzw9lwu1R4Uo0bVg0IQBYS7JEACdQm8OW2N6SL6vHBL3ZM84nsCFALfm5AVIAH3CehCdL8bOF0u6p4rew8ccj9D5pBSAhSClOJmZiTgXwJFm/dK8w7Z8uyHhf6tBEvuSIBC4IiFB0mABJwI9MxeZrqI9IMzhuAQoBAEx5asCQm4TuBAZZVc1Sdfrus7RcoPcfkJ14GnKAMKQYpAMxsSCAqBL1bsMG8F/SZ+FZQqhb4ebgnB9wHkAlhl/Z7k4IXm5wBmAVgKYDGA/7HFGQFgHYBF1p/GbTDQMU3o72cCSBGBJ99bKE927CCH+p4jknWiSP/WIoVjUpQ7s0k2AbeE4EUAmVbLrb99HFrxswG0sI7/CG90atgAABDhSURBVMA2AP9t7asQ3O1wTb2HKATJvj2YHgk4EyidM0oOZp0iknXC0b8eP6QYOOPy/FG3hED9DJ9mtdr6q/sNBXVWHxEGCoHnbx0WMNQE9A3ALgKRbT3O4DsCbgnBXlur/zUA9n3bqdrNSwEsB/B164gKgYqHdhm9DOD42ph1N9pblSjIyMjwnQFYYBLwJQHtDoo0/sf8nujL6oS90E0RgjwASxz+bnNo+Evqtt+1RyJvDJfXHql5m1ABUQF4B0AX27mYm+waCvvtzPqnjADfCFKGOhUZNUUIYjbI1tN8PF1DJwBY0MB4wLUAxtWXWeQchSAVtwzzIAGpGQvQMQHb20BVt1M5RuDTm8MtIegbNVisg8fR4ZsA8gE8GX3CNr6gbwUDALzgEKfOIQqBT+9CFtufBHSWUP/WciTrRCl+/izp9Hxn2VfO5Sf8aEy3hOBkq5HX6aPahaTTSTVcDOAta/teAFW2KaI6VTQyTXQygCKr22kkgO9Z19T7QyHw4y3IMgeBwKKNJXJm5jh57uPFQahO6OrglhDU22C7dZJCELr7lxX2EIHnxy41H5rNXbfbQ6ViUeIhQCGIhxLjkAAJNEigrKJKruydLzf0myoVVVx+okFgHopAIfCQMVgUEvA7gcnLt5u3ggG5K/1elVCVn0IQKnOzsiTgPoG//WeBtHhuvKzaXup+ZswhKQQoBEnByERIgAQiBHaUVsj5XSfKXUNnSvXhI5HD/PUwAQqBh43DopGAXwl8NH+T6SIaOmW1X6sQqnJTCEJlblaWBFJD4MiRI/LIyAL56XPZop7NGLxNgELgbfuwdCTgWwJ7yirlkh65cmO/qXRi43ErUgg8biAWjwT8TGCq5cRGvzFg8C4BCoF3bcOSkUAgCHT5tMiMF0xfuTMQ9QliJSgEQbQq60QCHiJwsLJarn9pilzWM09KDlR6qGQsSoQAhSBCgr8kQAKuEVi8aa+c1SFb9BsDBu8RoBB4zyYsEQkEksCg/JWmi+jThZsDWT8/V4pC4Gfrsewk4CMCVdWH5Y4hM+TcrAmypeSgj0oe/KJSCIJvY9aQBDxDYP2uMmnVOUfueX2WHOZXx56xC4XAM6ZgQUggHATem7vBdBG9OW1NOCrsg1q6JQTqiCYXgDqm0d+TYvggOGxzTDPWFudMAHMArAYwBoB6M2sw0B+BD+44FjH0BPSr43Yj5pmF6b7axoXpvHBDuCUE6poy02q59bdPjFa8LMbx9wHcY517DcAjMeIdc5hC4IVbimUggYYJ7NxfIRd1nyS/fvkL+i5oGJfrMdwSghU2v8PqxF73nYKTEKif4l0AjrMuuALARKeLo49RCFy/X5gBCSSNQN6yYtNF1Ct7WdLSZEKJEXBLCPbaGmlt2O37tlOotgowG8Dt1olTrC6hSLzTLd/Fkf2YvxSCxG4CXkUC6SKQ+dFiaZY5Tmat2ZWuIjBfEWmKEKhT+iUOf7c5NPwlMVrvH1vHmwNYD+AsAI0VgvZWJQoyMjJoVBIgAR8RUPeW17w42bi43Fd+yEclD1ZRmyIEMdp2czjeriF7GiMA3A2AXUPBusdYGxKol8D8DXukeYdseeq9hfXG40n3CLglBH2jBot18Dg66Eyi462D+hagM4xaWfsfRA0WPxp9sdM+u4bcu1GYMgm4SaDfpBVmvGBc4VY3s2HaMQi4JQQnA8i3GnftQtLppBouBvCWtX0lgCIAhdZvO+u4/mhX0VxrrEBFISIYtih1NykEMazMwyTgcQKHqg9L20HT5YLnJ0rxvnKPlzZ4xXNLCOq20ik4QiEI3g3KGoWHwOod++VnncbLvW/N5lfHKTY7hSDFwJkdCZBAbALvzlpvuohGzFwXOxLPJJ0AhSDpSJkgCZBAogT0q+P7h8+RszuOl8JNJYkmw+saSYBC0EhgjE4CJOAuAf3q+Mre+XJpz1yOF7iLujZ1CkEtCm6QAAl4hcCyrfvknM45ZgC5/FC1V4oV2HJQCAJrWlaMBPxNYOKSbearY/Vqpl1GDO4RoBC4x5YpkwAJNJHAkCmrzODxwLyVTUyJl9dHgEJQHx2eIwESSCsBfRPQL47PeHacjF/Mj83cMgaFwC2yTJcESCApBHSM4PYhM6Rlpxwp2rw3KWkykWMJUAiO5cE9EiABDxLYXlouV/TKk8t75cl2fnmcdAtRCJKOlAmSAAm4QWDJlr3mreC2wTOEM4mSS5hCkFyeTI0ESMBFAjlFW814wd9HcyZRMjFTCJJJk2mRAAm4TmBQ/kojBoMnr3I9r7BkQCEIi6VZTxIICAGdSaRvBDqTKKdoW0Bqld5qUAjSy5+5kwAJJEBAxwjaDp5hvj5eumVfAinwEjsBCoGdBrdJgAR8Q0BnD13WM8/MJtpRWuGbcnuxoBQCL1qFZSIBEoiLgH5XoD4M7hjCmURxAYsRyS0hUI9kuZaHMv1Vt5TR4ToAi2x/FQButyKp/+J1tnM/j77YaZ+OaWJYmYdJIMAEshfXzCTSL5C5JlFihnZLCNRHcabVWOtvH6eG23ZMhWMPgO9YxyKO7G1RGt6kECR2E/AqEvA7gQG5NTOJhk5Z7feqpKX8bgnBCgCnWU23/up+faE9gFG2CBSCtNwOzJQE/ElA3wQeGzXfrFY6aWmxPyuRxlK7JQR7bY361wDY922najcnA/hd7R6gQqDisRjAyw04r1cRKdC/jIyMNKJk1iRAAukkoDOJbh00XVp1zpGC9XvSWRTf5d0UIcgDsMTh7zaHhr/E1shHb+obw04A/2U7ocdUQI4H8A6ALrZzMTfZNeS7+48FJoGkEijeVy7XvDjZDCDnLeObQbxwmyIEMRtk62k+3q6hJwC8UU9i1wIYV8/52lMUgnjNzngkEFwC6uqy7aDpcmbmOBk9Z0NwK5rEmrklBH2jBot18DhWmA1AZxDZQ0RE9K1gAIAX7CdjbVMIknhnMCkS8DGBsooq+fOwOebr41fyVnI2UQO2dEsITgaQb00f1S4knRWk4WIAb1nb+tMMwBYAX7cd000dMyiyup1GAvhe1HnHXQpBA9bmaRIIEYFD1YflqTE1Tm06fLxYqg/T3WUs87slBI4NtdsHKQSxzMzjJBBOAjqb6IWc5ebN4K/vzOPy1TFuAwpBDDA8TAIkEBwCb89Ya6aW3jV0ppQcqAxOxZJUEwpBkkAyGRIgAW8TGFe4VVo8N15u6DdVNpcc9HZhU1w6CkGKgTM7EiCB9BH4cvUuObfLBLNY3fJtXLU0YgkKQYQEf0mABEJBYNnWfXJpz1w5N2uCzFqzKxR1bqiSFIKGCPE8CZBA4Ahs2nNArn9pirToOF7GL94auPo1tkIUgsYSY3wSIIFAENhTVmmWr26WOU5GzFwXiDolWgkKQaLkeB0JkIDvCRysrJZ2I+aZ6aUvTlge2g/PKAS+v5VZARIggaYQqKo+LJkfFRoxeOb9RaIfooUtUAjCZnHWlwRIoA4B/fCs/6QVRgxu7DdVJi7ZFqq3AwpBnVuCB0iABMJKYMKSbXJd3ylGEO4cOlPmrtsdChQUglCYmZUkARKIl4B2DY2avUEu6ZFrBOHBt+fKV9tK473cl/EoBL40GwtNAiTgNgEdSB4yZZX53kBnFukCdjrtNIiBQhBEq7JOJEACSSOgaxP1zF5mvjnQJSq6fb5UdpcFa70iCkHSbhcmRAIkEGQCW0oOyj8/WGQc3ugyFQPzVsqByqpAVJlCEAgzshIkQAKpIrCyuFQeeqfm24OLe+TKu7PWS9XC90T6txbJOrHmt3CM68XZXlouny7cbMTpqj75TXpLoRC4bi5mQAIkEEQCBet3y+9f/VIe75Ap5Vk/EMk64ehfjx+KJFkM9pUfkklLiyXrsyVyU/+pZiD7jGfHyXlZE6T9u/Nk/a6yhDG7JQS/B7AUwBHLK1ksnzS3WP6NV9tcW2rcMwHMAaDHxwD4ZqwE7MfpmCbh+4AXkgAJJEBAvz842KflUQGwicG+XmebJ/aFG0sS8oFQfqhaZq7eKX0nfCW3DZ4hzTtkm8b/7I7j5d63ZsvQKaulcFNJUjyvuSUE5wD4GYCp9QjBNwCsAdDcaugLAbSyGvb3Adxjbb8G4BF7gx9rm0KQwJ3MS0iABJpGQLuDbAIQ2T7c5cTap3Z9cj+/60RpO2i6/H30Auk3aYV8NH+TFKzfI7v2V5iP19SV5qKNJWam0v++OVu0wdfrVADuGDJDXpr4legy2hVV1U0rr8PVbglBpK2uTwiuADAxEhFAB+tPHdbvAnCcdS46nu2SYzcpBA4W5iESIAF3CZixAVu3kCUKh/u1klXbS013zpvT1kjHTxabJ/lfvpBvBpy1kY/86eCzLosd2b+5/xfSdewSyVtWLKXlh9wtv4ikUwjujnJkfx+AwQBOsbqEIq386ZYT+8h+9G97qxIFGRkZrgNjBiRAAiRwDAEdC9AxAftbQQNjBPpUv3rHfslfXizDpq+Vzp8WSYePF5uupB2lFcckn4qdpghBntVAL4n6vc3WUtf3RpAsIajNjm8EqbhlmAcJkEAdAioGKZ41VKcMTTjQFCGobYDr2ahPCKK7fNg11ARD8lISIAESSJRAOoVAxwDWWjOEdFaQDha3tkTlg6jB4kfrEZvaU3wjSPQ24HUkQAJhJuCWENwBYDOASgDbbYPCPwIwvrblBtoAWGnNHupoO64zieZaYwUqCsfbzsXcpBCE+VZm3UmABBIl4JYQxGys3TxBIUj0NuB1JEACYSZAIQiz9Vl3EiABEkjB9FE3XwDqpM03At7TJEACJNB4AnwjaDwzXkECJEACgSJAIQiUOVkZEiABEmg8gUAJAYCdVoUKEvhdn8A1ieTjpWtYZ8BL9nCrLLRz8O3cVBtr28kQNEWM06La8IQtsM7hsHjY7By2+rp2F4cRJOvs2u3kqYRpZ0+Zw5XChNHGBJkkAmG8eVjnJN08Hk8mbHYOW31du/10FdOwBdY5HBannYNv5zDaOPhWZQ1JgARIgARIgARIgARIgARIgARIgARIgARSReAWACus1U4zU5VpGvMZDmBHA57f0li8pGetXu6mAFgGYCmAJ5Keg/cS/Ja1gq8u7651ft57RXStROoPfSGAca7l4K2E9RuCIgCLQjoNPinW0JtmDQBd+jriF6FVUlL2biJXA/hFiITgNKu+apH/Zy19HnQbq+/v71m34H8BmAPgcu/ekkkt2dMA/hMyIVAXvwxNIBDLU1oTkvTFpc1CJATRBvkMwE3RBwO8/x0ACwBcFuA6Rqr2EwD5AK6nEESQ8DceArF8J8dzrZ/jhFUItN4bAZzgZ+PFWXZ929XugjIAfeK8xu/RPgRwEYBrQyQE6yyhnw+A00gTvIMpBAmC8+Fl2lWi/1nu9GHZm1Lk/7bGSM5tSiI+uPZ3AIZa5QyTEPzYqvOplstf7fplaCQBdg01EphPo2s/+UQA2n8cxtAFwD8CXvHelotcHTwtBnAQwMiA1zm6el1DYOfoOidl/zgAawGcaRssbp2UlL2dSJi6hnTg9F0AA7xtkqSW7gcA9E1Aw7cBTAegT8xhCWF5I/iuNQFC7arbXwLQWZAMCRBoY80k0dlDHRO43m+XjAawDUCV9QTVzm8VaGR5rwIgABZbfebab642D3I435pCqXVeAkDfCMIUwiIEOttRpwhHpgmHof0K033MupIACZAACZAACZAACZAACZAACZAACZAACZAACZAACZAACZAACZAACZAACZAACZAACZAACZAACZAACZAACZAACZAACZBAygj8f6lvAFdNk1K/AAAAAElFTkSuQmCC)"
      ]
    },
    {
      "cell_type": "markdown",
      "metadata": {
        "id": "_78QVjavxlhd"
      },
      "source": [
        "Dokumentasi: https://matplotlib.org/tutorials/introductory/pyplot.html"
      ]
    },
    {
      "cell_type": "code",
      "metadata": {
        "id": "DPLDT0zCeJ1y",
        "outputId": "29cb61a2-a297-414a-cd03-cbeff65cc333",
        "colab": {
          "base_uri": "https://localhost:8080/",
          "height": 265
        }
      },
      "source": [
        "### Jawaban Soal 3 ###\n",
        "import numpy as np\n",
        "import matplotlib.pyplot as plt\n",
        "\n",
        "# Fungsi sesungguhnya\n",
        "x1 = np.arange(0, 5.25, 0.25)\n",
        "y1 = np.sin(x1)\n",
        "\n",
        "### Buatlah di bawah ini list/array a, fa, sesuai ketentuan di soal ###\n",
        "a = [0.5, 1.5, 2.5, 3.5, 4.5]\n",
        "fa = [approx_lagrange([0, 1, 2, 3, 4, 5], np.sin([0, 1, 2, 3, 4, 5]), x) for x in a]\n",
        "\n",
        "#######################################################################\n",
        "#\n",
        "\n",
        "plt.plot(x1, y1)\n",
        "plt.plot(a, fa, 'o')\n",
        "plt.legend(('Polynomial', 'Approximation'))\n",
        "\n",
        "plt.show()"
      ],
      "execution_count": 4,
      "outputs": [
        {
          "output_type": "display_data",
          "data": {
            "image/png": "[encoded data removed]",
            "text/plain": [
              "<Figure size 432x288 with 1 Axes>"
            ]
          },
          "metadata": {
            "tags": [],
            "needs_background": "light"
          }
        }
      ]
    }
  ]
}