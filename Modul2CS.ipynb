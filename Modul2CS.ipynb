{
 "cells": [
  {
   "cell_type": "code",
   "execution_count": 10,
   "metadata": {
    "tags": []
   },
   "outputs": [
    {
     "output_type": "stream",
     "name": "stdout",
     "text": "Matrix is not valid\nMatrix Has No solution\n"
    }
   ],
   "source": [
    "import numpy as np\n",
    "\n",
    "class NotValidMatrixError(Exception):\n",
    "    print(\"Matrix is not valid\")\n",
    "\n",
    "class NoSolutionError(Exception):\n",
    "    print(\"Matrix Has No solution\")\n",
    "\n",
    "\n",
    "class SolveSPL(object):\n",
    "\n",
    "    def __init__(self,matrix):\n",
    "        self.origin = matrix\n",
    "        self.origin_np = np.mat(matrix)\n",
    "        self.matrix = matrix\n",
    "        self.matrix_np = np.mat(matrix)\n",
    "        self.row,self.collumn = self.matrix_np.shape\n",
    "        self.solution=[None for i in range(self.row)]\n",
    "        self.determinant = None\n",
    "        \n",
    "    def set_np(self):\n",
    "        self.matrix_np = np.mat(self.matrix)\n",
    "    \n",
    "    def eliminate(self):\n",
    "        row= self.row\n",
    "        col=self.collumn\n",
    "        for k in range(row-1):\n",
    "            if abs(self.matrix[k][k]) < 10**-15:\n",
    "                print(\"NotValidValue\",(k,k))\n",
    "                raise NotValidMatrixError\n",
    "            for i in range(k+1,row):\n",
    "                p = self.matrix[i][k]/self.matrix[k][k]\n",
    "                for j in range(k+1,col):\n",
    "                    self.matrix[i][j]= self.matrix[i][j] -p*self.matrix[k][j]\n",
    "                self.matrix[i][k]=0\n",
    "        self.set_np()\n",
    "        \n",
    "        return self.matrix\n",
    "    \n",
    "    def eliminate_parsial(self):\n",
    "        row= self.row\n",
    "        col=self.collumn\n",
    "        \n",
    "        for k in range(row-1):#Iterate from first row to the second last row\n",
    "            \n",
    "            #Begin pivoting\n",
    "            m=k\n",
    "            for i in range(k+1,row):#Iterate from next kth row to the last row\n",
    "                \n",
    "                if abs(self.matrix[i][k]) > abs(self.matrix[m][k]):\n",
    "                    m=i\n",
    "                    \n",
    "            if m != k:\n",
    "                for j in range(k,col):#Iterate from kth collumn to the last collumn\n",
    "                    s=self.matrix[k][j]\n",
    "                    self.matrix[k][j]=self.matrix[m][j]\n",
    "                    self.matrix[m][j] =s\n",
    "                \n",
    "            if abs(self.matrix[k][k]) < 10**-15:\n",
    "                print(\"NotValidValue\",(k,k))\n",
    "                raise NotValidMatrixError\n",
    "                \n",
    "            #Gauss Elimination    \n",
    "            for i in range(k+1,row-1):#Iterate from first row to the second last row\n",
    "                \n",
    "                p=self.matrix[i][k]/self.matrix[k][k]\n",
    "                \n",
    "                for j in range(k+1,col):#Iterate from next to kth collumn to the last collumn\n",
    "                    self.matrix[i][j]= self.matrix[i][j] -p*self.matrix[k][j]\n",
    "                self.matrix[i][k]=0\n",
    "        \n",
    "        self.set_np()\n",
    "        \n",
    "        return self.matrix\n",
    "    \n",
    "    def backwards(self):\n",
    "        row= self.row\n",
    "        col=self.collumn\n",
    "        dim= row -1\n",
    "        if abs(self.matrix[dim][dim]) < 10**-15:\n",
    "            print(\"NotValidValue\",(dim,dim))\n",
    "            raise NotValidMatrixError\n",
    "        \n",
    "        self.solution[dim] = self.matrix[dim][dim+1]/self.matrix[dim][dim]\n",
    "        \n",
    "        for k in range(dim-1,-1,-1):\n",
    "            s=0\n",
    "            for i in range(k+1,dim):\n",
    "                s += self.matrix[k][i]*self.solution[i]\n",
    "            \n",
    "            self.solution[k]=self.matrix[k][dim+1]/self.matrix[k][k]\n",
    "        \n",
    "        if None in self.solution:\n",
    "            raise NoSolutionError\n",
    "        \n",
    "        self.set_np()\n",
    "        return self.matrix\n",
    "    \n",
    "    def find_determinant(self,pivot=False):\n",
    "        row = self.row\n",
    "        if self.matrix == self.origin :\n",
    "            if pivot:\n",
    "                self.eliminate()\n",
    "            else:\n",
    "                self.eliminate_parsial()\n",
    "        \n",
    "        det = 1\n",
    "        for i in range(row):\n",
    "            det = det*self.matrix[i][i]\n",
    "        \n",
    "        self.determinant = det\n",
    "        \n",
    "        return det\n",
    "        \n",
    "        \n",
    "    def solve(self,pivot=False):\n",
    "        \n",
    "        if pivot:\n",
    "            self.eliminate_parsial()\n",
    "        else:\n",
    "            self.eliminate()\n",
    "        self.backwards()\n",
    "        \n",
    "        return self.solution   "
   ]
  },
  {
   "cell_type": "code",
   "execution_count": 11,
   "metadata": {},
   "outputs": [],
   "source": [
    "spl_1 = SolveSPL([[2,1,-2,3],[1,-1,-1,0],[1,1,3,12]])"
   ]
  },
  {
   "cell_type": "code",
   "execution_count": 12,
   "metadata": {},
   "outputs": [
    {
     "output_type": "execute_result",
     "data": {
      "text/plain": "-9.0"
     },
     "metadata": {},
     "execution_count": 12
    }
   ],
   "source": [
    "spl_1.find_determinant()"
   ]
  },
  {
   "cell_type": "code",
   "execution_count": 13,
   "metadata": {},
   "outputs": [
    {
     "output_type": "execute_result",
     "data": {
      "text/plain": "[1.5, 1.0, 2.5]"
     },
     "metadata": {},
     "execution_count": 13
    }
   ],
   "source": [
    "spl_1.solve()"
   ]
  },
  {
   "cell_type": "code",
   "execution_count": null,
   "metadata": {},
   "outputs": [],
   "source": []
  }
 ],
 "metadata": {
  "kernelspec": {
   "display_name": "Python 3",
   "language": "python",
   "name": "python3"
  },
  "language_info": {
   "codemirror_mode": {
    "name": "ipython",
    "version": 3
   },
   "file_extension": ".py",
   "mimetype": "text/x-python",
   "name": "python",
   "nbconvert_exporter": "python",
   "pygments_lexer": "ipython3",
   "version": "3.7.7-final"
  }
 },
 "nbformat": 4,
 "nbformat_minor": 2
}