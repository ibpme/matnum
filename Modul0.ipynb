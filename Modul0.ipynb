{
  "nbformat": 4,
  "nbformat_minor": 0,
  "metadata": {
    "colab": {
      "name": "Modul0.ipynb",
      "provenance": [],
      "collapsed_sections": [
        "1cGU94ITqSHn",
        "uID_xILJstHN",
        "1Kl9nPa1t-ly",
        "Ao7_0KEQu3lb",
        "G4tHAz8ZKXXO",
        "dP9WyN3LKcKp",
        "DRvxEKRkir8F",
        "vCcLZMyBoXEp",
        "h8vuvFKOqJtx"
      ]
    },
    "kernelspec": {
      "name": "python3",
      "display_name": "Python 3"
    }
  },
  "cells": [
    {
      "cell_type": "markdown",
      "metadata": {
        "id": "xCWoVuDZqATo",
        "colab_type": "text"
      },
      "source": [
        "# Pengenalan Python\n",
        "*by Raynaldi La'lang*\n",
        "\n",
        "Start learning Python: https://www.w3schools.com/python/"
      ]
    },
    {
      "cell_type": "markdown",
      "metadata": {
        "id": "1cGU94ITqSHn",
        "colab_type": "text"
      },
      "source": [
        "# Install package dan import module"
      ]
    },
    {
      "cell_type": "markdown",
      "metadata": {
        "id": "0ZpIifLztIYQ",
        "colab_type": "text"
      },
      "source": [
        "https://www.w3schools.com/python/python_pip.asp"
      ]
    },
    {
      "cell_type": "markdown",
      "metadata": {
        "id": "0qMsNQOzqpxy",
        "colab_type": "text"
      },
      "source": [
        "Cara memeriksa package yang sudah ter-install"
      ]
    },
    {
      "cell_type": "code",
      "metadata": {
        "id": "fQFudYHzqViI",
        "colab_type": "code",
        "colab": {
          "base_uri": "https://localhost:8080/"
        },
        "outputId": "d168e709-41af-493e-e0fc-493da6d2ce47"
      },
      "source": [
        "!pip list"
      ],
      "execution_count": null,
      "outputs": [
        {
          "output_type": "stream",
          "text": [
            "Package                       Version        \n",
            "----------------------------- ---------------\n",
            "absl-py                       0.8.1          \n",
            "alabaster                     0.7.12         \n",
            "albumentations                0.1.12         \n",
            "altair                        4.1.0          \n",
            "argon2-cffi                   20.1.0         \n",
            "asgiref                       3.2.10         \n",
            "astor                         0.8.1          \n",
            "astropy                       4.0.1.post1    \n",
            "astunparse                    1.6.3          \n",
            "atari-py                      0.2.6          \n",
            "atomicwrites                  1.4.0          \n",
            "attrs                         20.1.0         \n",
            "audioread                     2.1.8          \n",
            "autograd                      1.3            \n",
            "Babel                         2.8.0          \n",
            "backcall                      0.2.0          \n",
            "beautifulsoup4                4.6.3          \n",
            "bleach                        3.1.5          \n",
            "blis                          0.4.1          \n",
            "bokeh                         2.1.1          \n",
            "boto                          2.49.0         \n",
            "boto3                         1.14.48        \n",
            "botocore                      1.17.48        \n",
            "Bottleneck                    1.3.2          \n",
            "branca                        0.4.1          \n",
            "bs4                           0.0.1          \n",
            "CacheControl                  0.12.6         \n",
            "cachetools                    4.1.1          \n",
            "catalogue                     1.0.0          \n",
            "certifi                       2020.6.20      \n",
            "cffi                          1.14.2         \n",
            "chainer                       7.4.0          \n",
            "chardet                       3.0.4          \n",
            "click                         7.1.2          \n",
            "cloudpickle                   1.3.0          \n",
            "cmake                         3.12.0         \n",
            "cmdstanpy                     0.4.0          \n",
            "colorlover                    0.3.0          \n",
            "community                     1.0.0b1        \n",
            "contextlib2                   0.5.5          \n",
            "convertdate                   2.2.1          \n",
            "coverage                      3.7.1          \n",
            "coveralls                     0.5            \n",
            "crcmod                        1.7            \n",
            "cufflinks                     0.17.3         \n",
            "cvxopt                        1.2.5          \n",
            "cvxpy                         1.0.31         \n",
            "cycler                        0.10.0         \n",
            "cymem                         2.0.3          \n",
            "Cython                        0.29.21        \n",
            "daft                          0.0.4          \n",
            "dask                          2.12.0         \n",
            "dataclasses                   0.7            \n",
            "datascience                   0.10.6         \n",
            "debugpy                       1.0.0rc2       \n",
            "decorator                     4.4.2          \n",
            "defusedxml                    0.6.0          \n",
            "descartes                     1.1.0          \n",
            "dill                          0.3.2          \n",
            "distributed                   1.25.3         \n",
            "Django                        3.1            \n",
            "dlib                          19.18.0        \n",
            "dm-tree                       0.1.5          \n",
            "docopt                        0.6.2          \n",
            "docutils                      0.15.2         \n",
            "dopamine-rl                   1.0.5          \n",
            "earthengine-api               0.1.232        \n",
            "easydict                      1.9            \n",
            "ecos                          2.0.7.post1    \n",
            "editdistance                  0.5.3          \n",
            "en-core-web-sm                2.2.5          \n",
            "entrypoints                   0.3            \n",
            "ephem                         3.7.7.1        \n",
            "et-xmlfile                    1.0.1          \n",
            "fa2                           0.3.5          \n",
            "fancyimpute                   0.4.3          \n",
            "fastai                        1.0.61         \n",
            "fastdtw                       0.3.4          \n",
            "fastprogress                  1.0.0          \n",
            "fastrlock                     0.5            \n",
            "fbprophet                     0.6            \n",
            "feather-format                0.4.1          \n",
            "filelock                      3.0.12         \n",
            "firebase-admin                4.1.0          \n",
            "fix-yahoo-finance             0.0.22         \n",
            "Flask                         1.1.2          \n",
            "folium                        0.8.3          \n",
            "future                        0.16.0         \n",
            "gast                          0.3.3          \n",
            "GDAL                          2.2.2          \n",
            "gdown                         3.6.4          \n",
            "gensim                        3.6.0          \n",
            "geographiclib                 1.50           \n",
            "geopy                         1.17.0         \n",
            "gin-config                    0.3.0          \n",
            "glob2                         0.7            \n",
            "google                        2.0.3          \n",
            "google-api-core               1.16.0         \n",
            "google-api-python-client      1.7.12         \n",
            "google-auth                   1.17.2         \n",
            "google-auth-httplib2          0.0.4          \n",
            "google-auth-oauthlib          0.4.1          \n",
            "google-cloud-bigquery         1.21.0         \n",
            "google-cloud-core             1.0.3          \n",
            "google-cloud-datastore        1.8.0          \n",
            "google-cloud-firestore        1.7.0          \n",
            "google-cloud-language         1.2.0          \n",
            "google-cloud-storage          1.18.1         \n",
            "google-cloud-translate        1.5.0          \n",
            "google-colab                  1.0.0          \n",
            "google-pasta                  0.2.0          \n",
            "google-resumable-media        0.4.1          \n",
            "googleapis-common-protos      1.52.0         \n",
            "googledrivedownloader         0.4            \n",
            "graphviz                      0.10.1         \n",
            "grpcio                        1.31.0         \n",
            "gspread                       3.0.1          \n",
            "gspread-dataframe             3.0.8          \n",
            "gym                           0.17.2         \n",
            "h5py                          2.10.0         \n",
            "HeapDict                      1.0.1          \n",
            "holidays                      0.9.12         \n",
            "holoviews                     1.13.3         \n",
            "html5lib                      1.0.1          \n",
            "httpimport                    0.5.18         \n",
            "httplib2                      0.17.4         \n",
            "httplib2shim                  0.0.3          \n",
            "humanize                      0.5.1          \n",
            "hyperopt                      0.1.2          \n",
            "ideep4py                      2.0.0.post3    \n",
            "idna                          2.10           \n",
            "image                         1.5.32         \n",
            "imageio                       2.4.1          \n",
            "imagesize                     1.2.0          \n",
            "imbalanced-learn              0.4.3          \n",
            "imblearn                      0.0            \n",
            "imgaug                        0.2.9          \n",
            "importlib-metadata            1.7.0          \n",
            "imutils                       0.5.3          \n",
            "inflect                       2.1.0          \n",
            "iniconfig                     1.0.1          \n",
            "intel-openmp                  2020.0.133     \n",
            "intervaltree                  2.1.0          \n",
            "ipykernel                     4.10.1         \n",
            "ipython                       5.5.0          \n",
            "ipython-genutils              0.2.0          \n",
            "ipython-sql                   0.3.9          \n",
            "ipywidgets                    7.5.1          \n",
            "itsdangerous                  1.1.0          \n",
            "jax                           0.1.75         \n",
            "jaxlib                        0.1.52         \n",
            "jdcal                         1.4.1          \n",
            "jedi                          0.17.2         \n",
            "jieba                         0.42.1         \n",
            "Jinja2                        2.11.2         \n",
            "jmespath                      0.10.0         \n",
            "joblib                        0.16.0         \n",
            "jpeg4py                       0.1.4          \n",
            "jsonschema                    2.6.0          \n",
            "jupyter                       1.0.0          \n",
            "jupyter-client                5.3.5          \n",
            "jupyter-console               5.2.0          \n",
            "jupyter-core                  4.6.3          \n",
            "kaggle                        1.5.6          \n",
            "kapre                         0.1.3.1        \n",
            "Keras                         2.4.3          \n",
            "Keras-Preprocessing           1.1.2          \n",
            "keras-vis                     0.4.1          \n",
            "kiwisolver                    1.2.0          \n",
            "knnimpute                     0.1.0          \n",
            "librosa                       0.6.3          \n",
            "lightgbm                      2.2.3          \n",
            "llvmlite                      0.31.0         \n",
            "lmdb                          0.99           \n",
            "lucid                         0.3.8          \n",
            "LunarCalendar                 0.0.9          \n",
            "lxml                          4.2.6          \n",
            "Markdown                      3.2.2          \n",
            "MarkupSafe                    1.1.1          \n",
            "matplotlib                    3.2.2          \n",
            "matplotlib-venn               0.11.5         \n",
            "missingno                     0.4.2          \n",
            "mistune                       0.8.4          \n",
            "mizani                        0.6.0          \n",
            "mkl                           2019.0         \n",
            "mlxtend                       0.14.0         \n",
            "more-itertools                8.4.0          \n",
            "moviepy                       0.2.3.5        \n",
            "mpmath                        1.1.0          \n",
            "msgpack                       1.0.0          \n",
            "multiprocess                  0.70.10        \n",
            "multitasking                  0.0.9          \n",
            "murmurhash                    1.0.2          \n",
            "music21                       5.5.0          \n",
            "natsort                       5.5.0          \n",
            "nbconvert                     5.6.1          \n",
            "nbformat                      5.0.7          \n",
            "networkx                      2.5            \n",
            "nibabel                       3.0.2          \n",
            "nltk                          3.2.5          \n",
            "notebook                      5.3.1          \n",
            "np-utils                      0.5.12.1       \n",
            "numba                         0.48.0         \n",
            "numexpr                       2.7.1          \n",
            "numpy                         1.18.5         \n",
            "nvidia-ml-py3                 7.352.0        \n",
            "oauth2client                  4.1.3          \n",
            "oauthlib                      3.1.0          \n",
            "okgrade                       0.4.3          \n",
            "opencv-contrib-python         4.1.2.30       \n",
            "opencv-python                 4.1.2.30       \n",
            "openpyxl                      2.5.9          \n",
            "opt-einsum                    3.3.0          \n",
            "osqp                          0.6.1          \n",
            "packaging                     20.4           \n",
            "palettable                    3.3.0          \n",
            "pandas                        1.0.5          \n",
            "pandas-datareader             0.8.1          \n",
            "pandas-gbq                    0.11.0         \n",
            "pandas-profiling              1.4.1          \n",
            "pandocfilters                 1.4.2          \n",
            "panel                         0.9.7          \n",
            "param                         1.9.3          \n",
            "parso                         0.7.1          \n",
            "pathlib                       1.0.1          \n",
            "patsy                         0.5.1          \n",
            "pexpect                       4.8.0          \n",
            "pickleshare                   0.7.5          \n",
            "Pillow                        7.0.0          \n",
            "pip                           19.3.1         \n",
            "pip-tools                     4.5.1          \n",
            "plac                          1.1.3          \n",
            "plotly                        4.4.1          \n",
            "plotnine                      0.6.0          \n",
            "pluggy                        0.7.1          \n",
            "portpicker                    1.3.1          \n",
            "prefetch-generator            1.0.1          \n",
            "preshed                       3.0.2          \n",
            "prettytable                   0.7.2          \n",
            "progressbar2                  3.38.0         \n",
            "prometheus-client             0.8.0          \n",
            "promise                       2.3            \n",
            "prompt-toolkit                1.0.18         \n",
            "protobuf                      3.12.4         \n",
            "psutil                        5.4.8          \n",
            "psycopg2                      2.7.6.1        \n",
            "ptyprocess                    0.6.0          \n",
            "py                            1.9.0          \n",
            "pyarrow                       0.14.1         \n",
            "pyasn1                        0.4.8          \n",
            "pyasn1-modules                0.2.8          \n",
            "pycocotools                   2.0.1          \n",
            "pycparser                     2.20           \n",
            "pyct                          0.4.6          \n",
            "pydata-google-auth            1.1.0          \n",
            "pydot                         1.3.0          \n",
            "pydot-ng                      2.0.0          \n",
            "pydotplus                     2.0.2          \n",
            "PyDrive                       1.3.1          \n",
            "pyemd                         0.5.1          \n",
            "pyglet                        1.5.0          \n",
            "Pygments                      2.1.3          \n",
            "pygobject                     3.26.1         \n",
            "pymc3                         3.7            \n",
            "PyMeeus                       0.3.7          \n",
            "pymongo                       3.11.0         \n",
            "pymystem3                     0.2.0          \n",
            "PyOpenGL                      3.1.5          \n",
            "pyparsing                     2.4.7          \n",
            "pyrsistent                    0.16.0         \n",
            "pysndfile                     1.3.8          \n",
            "PySocks                       1.7.1          \n",
            "pystan                        2.19.1.1       \n",
            "pytest                        3.6.4          \n",
            "python-apt                    1.6.5+ubuntu0.3\n",
            "python-chess                  0.23.11        \n",
            "python-dateutil               2.8.1          \n",
            "python-louvain                0.14           \n",
            "python-slugify                4.0.1          \n",
            "python-utils                  2.4.0          \n",
            "pytz                          2018.9         \n",
            "pyviz-comms                   0.7.6          \n",
            "PyWavelets                    1.1.1          \n",
            "PyYAML                        3.13           \n",
            "pyzmq                         19.0.2         \n",
            "qtconsole                     4.7.6          \n",
            "QtPy                          1.9.0          \n",
            "regex                         2019.12.20     \n",
            "requests                      2.23.0         \n",
            "requests-oauthlib             1.3.0          \n",
            "resampy                       0.2.2          \n",
            "retrying                      1.3.3          \n",
            "rpy2                          3.2.7          \n",
            "rsa                           4.6            \n",
            "s3transfer                    0.3.3          \n",
            "scikit-image                  0.16.2         \n",
            "scikit-learn                  0.22.2.post1   \n",
            "scipy                         1.4.1          \n",
            "screen-resolution-extra       0.0.0          \n",
            "scs                           2.1.2          \n",
            "seaborn                       0.10.1         \n",
            "Send2Trash                    1.5.0          \n",
            "setuptools                    49.6.0         \n",
            "setuptools-git                1.2            \n",
            "Shapely                       1.7.1          \n",
            "simplegeneric                 0.8.1          \n",
            "six                           1.15.0         \n",
            "sklearn                       0.0            \n",
            "sklearn-pandas                1.8.0          \n",
            "smart-open                    2.1.0          \n",
            "snowballstemmer               2.0.0          \n",
            "sortedcontainers              2.2.2          \n",
            "spacy                         2.2.4          \n",
            "Sphinx                        1.8.5          \n",
            "sphinxcontrib-serializinghtml 1.1.4          \n",
            "sphinxcontrib-websupport      1.2.4          \n",
            "SQLAlchemy                    1.3.19         \n",
            "sqlparse                      0.3.1          \n",
            "srsly                         1.0.2          \n",
            "statsmodels                   0.10.2         \n",
            "sympy                         1.1.1          \n",
            "tables                        3.4.4          \n",
            "tabulate                      0.8.7          \n",
            "tblib                         1.7.0          \n",
            "tensorboard                   2.3.0          \n",
            "tensorboard-plugin-wit        1.7.0          \n",
            "tensorboardcolab              0.0.22         \n",
            "tensorflow                    2.3.0          \n",
            "tensorflow-addons             0.8.3          \n",
            "tensorflow-datasets           2.1.0          \n",
            "tensorflow-estimator          2.3.0          \n",
            "tensorflow-gcs-config         2.3.0          \n",
            "tensorflow-hub                0.9.0          \n",
            "tensorflow-metadata           0.23.0         \n",
            "tensorflow-privacy            0.2.2          \n",
            "tensorflow-probability        0.11.0         \n",
            "termcolor                     1.1.0          \n",
            "terminado                     0.8.3          \n",
            "testpath                      0.4.4          \n",
            "text-unidecode                1.3            \n",
            "textblob                      0.15.3         \n",
            "textgenrnn                    1.4.1          \n",
            "Theano                        1.0.5          \n",
            "thinc                         7.4.0          \n",
            "tifffile                      2020.8.25      \n",
            "toml                          0.10.1         \n",
            "toolz                         0.10.0         \n",
            "torch                         1.6.0+cu101    \n",
            "torchsummary                  1.5.1          \n",
            "torchtext                     0.3.1          \n",
            "torchvision                   0.7.0+cu101    \n",
            "tornado                       5.1.1          \n",
            "tqdm                          4.41.1         \n",
            "traitlets                     4.3.3          \n",
            "tweepy                        3.6.0          \n",
            "typeguard                     2.7.1          \n",
            "typing-extensions             3.7.4.3        \n",
            "tzlocal                       1.5.1          \n",
            "umap-learn                    0.4.6          \n",
            "uritemplate                   3.0.1          \n",
            "urllib3                       1.24.3         \n",
            "vega-datasets                 0.8.0          \n",
            "wasabi                        0.7.1          \n",
            "wcwidth                       0.2.5          \n",
            "webencodings                  0.5.1          \n",
            "Werkzeug                      1.0.1          \n",
            "wheel                         0.35.1         \n",
            "widgetsnbextension            3.5.1          \n",
            "wordcloud                     1.5.0          \n",
            "wrapt                         1.12.1         \n",
            "xarray                        0.15.1         \n",
            "xgboost                       0.90           \n",
            "xkit                          0.0.0          \n",
            "xlrd                          1.1.0          \n",
            "xlwt                          1.3.0          \n",
            "yellowbrick                   0.9.1          \n",
            "zict                          2.0.0          \n",
            "zipp                          3.1.0          \n"
          ],
          "name": "stdout"
        }
      ]
    },
    {
      "cell_type": "markdown",
      "metadata": {
        "colab_type": "text",
        "id": "N9DkLXtMqwoR"
      },
      "source": [
        "Cara install package"
      ]
    },
    {
      "cell_type": "code",
      "metadata": {
        "colab_type": "code",
        "id": "_Ot4Fne2qwoW",
        "colab": {
          "base_uri": "https://localhost:8080/"
        },
        "outputId": "6c76ac41-277b-4390-dd90-94826a1651c8"
      },
      "source": [
        "!pip install plotly\n",
        "!pip install pandas>=1.0.5\n",
        "\n",
        "#In Jupyter Notebook\n",
        "# !python -m pip install plotly"
      ],
      "execution_count": null,
      "outputs": [
        {
          "output_type": "stream",
          "text": [
            "Requirement already satisfied: plotly in /usr/local/lib/python3.6/dist-packages (4.4.1)\n",
            "Requirement already satisfied: six in /usr/local/lib/python3.6/dist-packages (from plotly) (1.15.0)\n",
            "Requirement already satisfied: retrying>=1.3.3 in /usr/local/lib/python3.6/dist-packages (from plotly) (1.3.3)\n"
          ],
          "name": "stdout"
        }
      ]
    },
    {
      "cell_type": "markdown",
      "metadata": {
        "id": "F8DeQTeujDzC",
        "colab_type": "text"
      },
      "source": [
        "Cara import module"
      ]
    },
    {
      "cell_type": "code",
      "metadata": {
        "id": "Q65cqly0jC0-",
        "colab_type": "code",
        "colab": {}
      },
      "source": [
        "import numpy as np\n",
        "import math\n",
        "from math import pi\n",
        "import matplotlib.pyplot as plt"
      ],
      "execution_count": null,
      "outputs": []
    },
    {
      "cell_type": "markdown",
      "metadata": {
        "id": "uID_xILJstHN",
        "colab_type": "text"
      },
      "source": [
        "# How to use Colab"
      ]
    },
    {
      "cell_type": "markdown",
      "metadata": {
        "id": "2ot2e-qBtCSh",
        "colab_type": "text"
      },
      "source": [
        "* cell\n",
        "* text\n",
        "* runtime\n",
        "* download\n",
        "* rename\n",
        "* share\n",
        "\n",
        "\n"
      ]
    },
    {
      "cell_type": "markdown",
      "metadata": {
        "id": "1Kl9nPa1t-ly",
        "colab_type": "text"
      },
      "source": [
        "# Komentar"
      ]
    },
    {
      "cell_type": "markdown",
      "metadata": {
        "id": "MisGncNEuEcf",
        "colab_type": "text"
      },
      "source": [
        "Untuk memberikan komentar, kita bisa memberikan tanda # sebagai awal komentar.\n",
        "Untuk komentar dengan lebih dari satu line bisa menggunakan \"\"\" di awal dan akhir komentar\n",
        "\n",
        "Tips: Hotkey untuk *# komentar* adalah Ctrl + /"
      ]
    },
    {
      "cell_type": "code",
      "metadata": {
        "id": "I8vdaS8yucV5",
        "colab_type": "code",
        "colab": {
          "base_uri": "https://localhost:8080/"
        },
        "outputId": "272ec8a2-00c9-4a25-a4e1-93a1c39caad6"
      },
      "source": [
        "# Komentar 1\n",
        "# Komentar 2\n",
        "# Komentar 3\n",
        "\n",
        "\"\"\"\n",
        "This is a comment\n",
        "written in\n",
        "more than just one line\n",
        "\"\"\""
      ],
      "execution_count": null,
      "outputs": [
        {
          "output_type": "execute_result",
          "data": {
            "application/vnd.google.colaboratory.intrinsic+json": {
              "type": "string"
            },
            "text/plain": [
              "'\\nThis is a comment\\nwritten in\\nmore than just one line\\n'"
            ]
          },
          "metadata": {
            "tags": []
          },
          "execution_count": 4
        }
      ]
    },
    {
      "cell_type": "markdown",
      "metadata": {
        "id": "Ao7_0KEQu3lb",
        "colab_type": "text"
      },
      "source": [
        "# Print"
      ]
    },
    {
      "cell_type": "markdown",
      "metadata": {
        "id": "QNwpf0RZKSAM",
        "colab_type": "text"
      },
      "source": [
        "**print()** digunakan untuk mencetak suatu object"
      ]
    },
    {
      "cell_type": "code",
      "metadata": {
        "id": "gDDOSXp-vhSc",
        "colab_type": "code",
        "colab": {
          "base_uri": "https://localhost:8080/"
        },
        "outputId": "d04e4fb6-2ba5-47c2-8cc5-249192fa6f93"
      },
      "source": [
        "x = \"Hello World\"\n",
        "y = \"WOW\"\n",
        "print(x)\n",
        "print(y)\n",
        "print(x,y)"
      ],
      "execution_count": null,
      "outputs": [
        {
          "output_type": "stream",
          "text": [
            "Hello World\n",
            "WOW\n",
            "Hello World WOW\n"
          ],
          "name": "stdout"
        }
      ]
    },
    {
      "cell_type": "markdown",
      "metadata": {
        "id": "G4tHAz8ZKXXO",
        "colab_type": "text"
      },
      "source": [
        "# If"
      ]
    },
    {
      "cell_type": "markdown",
      "metadata": {
        "id": "uv6ZcyMt2knk",
        "colab_type": "text"
      },
      "source": [
        "Untuk menjalankan suatu command menurut kondisi tertentu, digunakan **if ... elif ... else**"
      ]
    },
    {
      "cell_type": "code",
      "metadata": {
        "id": "75iPDaOJ2_x8",
        "colab_type": "code",
        "colab": {
          "base_uri": "https://localhost:8080/"
        },
        "outputId": "befa0bf3-fb3f-4ae5-ebfe-db7e94e34d95"
      },
      "source": [
        "a = 33\n",
        "b = 200\n",
        "\n",
        "if b == a:\n",
        "  print(\"b is equal to a\")\n",
        "\n",
        "elif b < a:\n",
        "  print(\"b is less than a\")\n",
        "  \n",
        "else:\n",
        "  print(\"b is greater than a\")"
      ],
      "execution_count": null,
      "outputs": [
        {
          "output_type": "stream",
          "text": [
            "b is greater than a\n"
          ],
          "name": "stdout"
        }
      ]
    },
    {
      "cell_type": "markdown",
      "metadata": {
        "id": "dP9WyN3LKcKp",
        "colab_type": "text"
      },
      "source": [
        "# While"
      ]
    },
    {
      "cell_type": "markdown",
      "metadata": {
        "id": "u7EzHpGJ3VJM",
        "colab_type": "text"
      },
      "source": [
        "Perintah **while** digunakan untuk menjalankan serangkaian command selama suatu kondisi dipenuhi"
      ]
    },
    {
      "cell_type": "code",
      "metadata": {
        "id": "PAMo4S7X4HDz",
        "colab_type": "code",
        "colab": {
          "base_uri": "https://localhost:8080/"
        },
        "outputId": "47ccca5d-4e69-442e-f0ee-3bebc9f6220f"
      },
      "source": [
        "a = 1\n",
        "b = 10\n",
        "\n",
        "while a<10 and b>1:\n",
        "  a += 1\n",
        "  b = b-1\n",
        "\n",
        "print(a)\n",
        "print(b)"
      ],
      "execution_count": null,
      "outputs": [
        {
          "output_type": "stream",
          "text": [
            "10\n",
            "1\n"
          ],
          "name": "stdout"
        }
      ]
    },
    {
      "cell_type": "markdown",
      "metadata": {
        "id": "iuzZUbmoKfCs",
        "colab_type": "text"
      },
      "source": [
        "# Iterables dan For"
      ]
    },
    {
      "cell_type": "markdown",
      "metadata": {
        "id": "LaRzv5Ce4xCw",
        "colab_type": "text"
      },
      "source": [
        "**Iterable** adalah object yang dapat \"di-iterasi\" menggunakan **for**-loop."
      ]
    },
    {
      "cell_type": "code",
      "metadata": {
        "id": "spJb1xJv4itp",
        "colab_type": "code",
        "colab": {
          "base_uri": "https://localhost:8080/"
        },
        "outputId": "3f195760-50a8-489a-f9b0-1b2d8ca7493d"
      },
      "source": [
        "for i in range(5):\n",
        "  print(i)"
      ],
      "execution_count": null,
      "outputs": [
        {
          "output_type": "stream",
          "text": [
            "0\n",
            "1\n",
            "2\n",
            "3\n",
            "4\n"
          ],
          "name": "stdout"
        }
      ]
    },
    {
      "cell_type": "code",
      "metadata": {
        "id": "N6_AIERCYg6K",
        "colab_type": "code",
        "colab": {
          "base_uri": "https://localhost:8080/"
        },
        "outputId": "cc380e82-0d68-4482-8675-218a1ec4e9a8"
      },
      "source": [
        "for i in range(2,5):\n",
        "  print(i)"
      ],
      "execution_count": null,
      "outputs": [
        {
          "output_type": "stream",
          "text": [
            "2\n",
            "3\n",
            "4\n"
          ],
          "name": "stdout"
        }
      ]
    },
    {
      "cell_type": "code",
      "metadata": {
        "id": "SL1hkzlo5aH_",
        "colab_type": "code",
        "colab": {
          "base_uri": "https://localhost:8080/"
        },
        "outputId": "15c947a4-2a3b-4578-8cb4-af7e86164913"
      },
      "source": [
        "for i in range(2,10,3):\n",
        "  print(i)"
      ],
      "execution_count": null,
      "outputs": [
        {
          "output_type": "stream",
          "text": [
            "2\n",
            "5\n",
            "8\n"
          ],
          "name": "stdout"
        }
      ]
    },
    {
      "cell_type": "code",
      "metadata": {
        "id": "4OiCuxlV5gPG",
        "colab_type": "code",
        "colab": {
          "base_uri": "https://localhost:8080/"
        },
        "outputId": "5e8aa980-d3d4-4c70-a469-60a9c09afe1d"
      },
      "source": [
        "X = [\"a\",None,1,True]\n",
        "for x in X:\n",
        "  print(x)"
      ],
      "execution_count": null,
      "outputs": [
        {
          "output_type": "stream",
          "text": [
            "a\n",
            "None\n",
            "1\n",
            "True\n"
          ],
          "name": "stdout"
        }
      ]
    },
    {
      "cell_type": "markdown",
      "metadata": {
        "id": "kBiSglen6C8c",
        "colab_type": "text"
      },
      "source": [
        "Suatu iterable object dapat diakses dengan [ ] (kurung siku)\n",
        "\n",
        "Catatan: penggunaan indeks dalam Python dimulai dari 0"
      ]
    },
    {
      "cell_type": "code",
      "metadata": {
        "id": "GvFqpUHC5qO7",
        "colab_type": "code",
        "colab": {
          "base_uri": "https://localhost:8080/"
        },
        "outputId": "0ae47ac8-e67d-4a26-b4a2-a6584ab42016"
      },
      "source": [
        "X = [[\"a\",None,1,True],\n",
        "     [-1,2,0,5]\n",
        "     ]\n",
        "\n",
        "# mengakses satu elemen\n",
        "print(X[1][2])\n",
        "\n",
        "# mengakses beberapa elemen\n",
        "print(X[1])\n",
        "print(X[1][1:3])\n",
        "\n",
        "# mengakses elemen terakhir\n",
        "print(X[0][-1])"
      ],
      "execution_count": null,
      "outputs": [
        {
          "output_type": "stream",
          "text": [
            "0\n",
            "[-1, 2, 0, 5]\n",
            "[2, 0]\n",
            "True\n"
          ],
          "name": "stdout"
        }
      ]
    },
    {
      "cell_type": "markdown",
      "metadata": {
        "id": "Ezci2DSWpwED",
        "colab_type": "text"
      },
      "source": [
        "Untuk menambahkan elemen baru ke dalam list, gunakan list.**append()**"
      ]
    },
    {
      "cell_type": "code",
      "metadata": {
        "id": "9JrnGSO_pvBU",
        "colab_type": "code",
        "colab": {
          "base_uri": "https://localhost:8080/"
        },
        "outputId": "6a546416-1fa9-43b5-90b0-a0411b92bcd2"
      },
      "source": [
        "X = [1,2,3]\n",
        "X.append(0)\n",
        "print(X)"
      ],
      "execution_count": null,
      "outputs": [
        {
          "output_type": "stream",
          "text": [
            "[1, 2, 3, 0]\n"
          ],
          "name": "stdout"
        }
      ]
    },
    {
      "cell_type": "markdown",
      "metadata": {
        "id": "DRvxEKRkir8F",
        "colab_type": "text"
      },
      "source": [
        "# NumPy"
      ]
    },
    {
      "cell_type": "markdown",
      "metadata": {
        "id": "Xmy2RnHfiyQQ",
        "colab_type": "text"
      },
      "source": [
        "**numpy** adalah salah satu Python package yang paling umum digunakan yang dilengkapi dengan fitur-fitur yang relatif sederhana, namun sangat berguna\n",
        "\n",
        "https://numpy.org/doc/stable/reference/index.html"
      ]
    },
    {
      "cell_type": "code",
      "metadata": {
        "id": "CQZHGFrSjw44",
        "colab_type": "code",
        "colab": {}
      },
      "source": [
        "import numpy as np"
      ],
      "execution_count": null,
      "outputs": []
    },
    {
      "cell_type": "markdown",
      "metadata": {
        "id": "X6n4sqLsjtxw",
        "colab_type": "text"
      },
      "source": [
        "**numpy array** adalah object yang menyerupai list, namun memiliki keunggulan dari sisi performa dan efisiensi"
      ]
    },
    {
      "cell_type": "code",
      "metadata": {
        "id": "IfI7LDBmiv_n",
        "colab_type": "code",
        "colab": {
          "base_uri": "https://localhost:8080/"
        },
        "outputId": "d1b8188c-4d1a-4e8b-8292-de7ce191f43e"
      },
      "source": [
        "X = np.array([[1,0,0],\n",
        "             [0,1,0],\n",
        "             [0,0,1]])\n",
        "\n",
        "print(X[1,1])"
      ],
      "execution_count": null,
      "outputs": [
        {
          "output_type": "stream",
          "text": [
            "1\n"
          ],
          "name": "stdout"
        }
      ]
    },
    {
      "cell_type": "markdown",
      "metadata": {
        "colab_type": "text",
        "id": "TiwI48Tlk0yi"
      },
      "source": [
        "**numpy** juga bisa digunakan untuk membuat array of zeros, array of ones, array of random numbers, dan sequence"
      ]
    },
    {
      "cell_type": "code",
      "metadata": {
        "colab_type": "code",
        "id": "tOYYdmSMk0yk",
        "colab": {
          "base_uri": "https://localhost:8080/"
        },
        "outputId": "64099485-7e03-43ca-9b27-88fe1715e089"
      },
      "source": [
        "X = np.zeros((2,3))\n",
        "print(X)"
      ],
      "execution_count": null,
      "outputs": [
        {
          "output_type": "stream",
          "text": [
            "[[0. 0. 0.]\n",
            " [0. 0. 0.]]\n"
          ],
          "name": "stdout"
        }
      ]
    },
    {
      "cell_type": "code",
      "metadata": {
        "id": "4e1YY-nXlHOZ",
        "colab_type": "code",
        "colab": {
          "base_uri": "https://localhost:8080/"
        },
        "outputId": "333e9d16-758d-425e-bf5d-0213aa33a629"
      },
      "source": [
        "Y = np.ones((2,3,2))\n",
        "print(Y)"
      ],
      "execution_count": null,
      "outputs": [
        {
          "output_type": "stream",
          "text": [
            "[[[1. 1.]\n",
            "  [1. 1.]\n",
            "  [1. 1.]]\n",
            "\n",
            " [[1. 1.]\n",
            "  [1. 1.]\n",
            "  [1. 1.]]]\n"
          ],
          "name": "stdout"
        }
      ]
    },
    {
      "cell_type": "code",
      "metadata": {
        "id": "k272dW1flM5j",
        "colab_type": "code",
        "colab": {
          "base_uri": "https://localhost:8080/"
        },
        "outputId": "672ef858-5bee-4d4c-a490-789bc7195668"
      },
      "source": [
        "Z = np.arange(1,11,3)\n",
        "print(Z)"
      ],
      "execution_count": null,
      "outputs": [
        {
          "output_type": "stream",
          "text": [
            "[ 1  4  7 10]\n"
          ],
          "name": "stdout"
        }
      ]
    },
    {
      "cell_type": "code",
      "metadata": {
        "id": "NPzVmAi_qo2c",
        "colab_type": "code",
        "colab": {
          "base_uri": "https://localhost:8080/",
          "height": 134
        },
        "outputId": "6852cdf9-b690-4850-aa06-350d4486cd8f"
      },
      "source": [
        "R = np.random.rand(2,3,2)\n",
        "print(R)"
      ],
      "execution_count": null,
      "outputs": [
        {
          "output_type": "stream",
          "text": [
            "[[[0.94805836 0.92065516]\n",
            "  [0.49549117 0.74549305]\n",
            "  [0.89564073 0.85653393]]\n",
            "\n",
            " [[0.69332447 0.28963987]\n",
            "  [0.3921668  0.18651856]\n",
            "  [0.02954415 0.5262563 ]]]\n"
          ],
          "name": "stdout"
        }
      ]
    },
    {
      "cell_type": "markdown",
      "metadata": {
        "id": "LgHdgtibls-Z",
        "colab_type": "text"
      },
      "source": [
        "**numpy** juga menyediakan fungsi-fungsi matematika"
      ]
    },
    {
      "cell_type": "code",
      "metadata": {
        "id": "RC9PdNDfliEv",
        "colab_type": "code",
        "colab": {
          "base_uri": "https://localhost:8080/"
        },
        "outputId": "a5e95785-91dd-4dcf-c6c6-e4cc47c41abc"
      },
      "source": [
        "print(np.sqrt(2))\n",
        "print(np.exp(1))\n",
        "\n",
        "X = np.array([-np.pi,1,2*np.pi])\n",
        "print(np.cos(X))"
      ],
      "execution_count": null,
      "outputs": [
        {
          "output_type": "stream",
          "text": [
            "1.4142135623730951\n",
            "2.718281828459045\n",
            "[-1.          0.54030231  1.        ]\n"
          ],
          "name": "stdout"
        }
      ]
    },
    {
      "cell_type": "markdown",
      "metadata": {
        "id": "AzGXCPLVmZ48",
        "colab_type": "text"
      },
      "source": [
        "# Lambda"
      ]
    },
    {
      "cell_type": "markdown",
      "metadata": {
        "id": "EHYdib0XnQl7",
        "colab_type": "text"
      },
      "source": [
        "**lambda** pada umumnya digunakan untuk membuat fungsi yang sederhana"
      ]
    },
    {
      "cell_type": "code",
      "metadata": {
        "id": "CxY9YbqinFVm",
        "colab_type": "code",
        "colab": {
          "base_uri": "https://localhost:8080/"
        },
        "outputId": "90c088fa-8787-4f8b-fbe9-c6cf48cd55ad"
      },
      "source": [
        "y = lambda x: x**2\n",
        "print(y(2))"
      ],
      "execution_count": null,
      "outputs": [
        {
          "output_type": "stream",
          "text": [
            "4\n"
          ],
          "name": "stdout"
        }
      ]
    },
    {
      "cell_type": "code",
      "metadata": {
        "id": "DOM2heMbno2K",
        "colab_type": "code",
        "colab": {
          "base_uri": "https://localhost:8080/"
        },
        "outputId": "59d2a011-a535-42be-f3bb-2d3b64b7681a"
      },
      "source": [
        "z = lambda x,y: x*y\n",
        "print(z(2,3))"
      ],
      "execution_count": null,
      "outputs": [
        {
          "output_type": "stream",
          "text": [
            "6\n"
          ],
          "name": "stdout"
        }
      ]
    },
    {
      "cell_type": "markdown",
      "metadata": {
        "id": "cVCMoN_bmK4P",
        "colab_type": "text"
      },
      "source": [
        "**lambda** juga bisa digunakan untuk membuat suatu list dengan aturan tertentu"
      ]
    },
    {
      "cell_type": "code",
      "metadata": {
        "id": "8KRBSWq8mUA5",
        "colab_type": "code",
        "colab": {
          "base_uri": "https://localhost:8080/",
          "height": 34
        },
        "outputId": "2202c57f-223e-4cda-ebfd-7156e33087f7"
      },
      "source": [
        "f = lambda x: x**3\n",
        "X = [f(x) for x in range(-2,5)]\n",
        "print(X)"
      ],
      "execution_count": null,
      "outputs": [
        {
          "output_type": "stream",
          "text": [
            "[-8, -1, 0, 1, 8, 27, 64]\n"
          ],
          "name": "stdout"
        }
      ]
    },
    {
      "cell_type": "markdown",
      "metadata": {
        "id": "vCcLZMyBoXEp",
        "colab_type": "text"
      },
      "source": [
        "# Function"
      ]
    },
    {
      "cell_type": "markdown",
      "metadata": {
        "id": "pbcAcpOMocUV",
        "colab_type": "text"
      },
      "source": [
        "Untuk membuat fungsi yang lebih kompleks, biasa digunakan perintah **def**"
      ]
    },
    {
      "cell_type": "code",
      "metadata": {
        "id": "rOVwK1b-okGW",
        "colab_type": "code",
        "colab": {
          "base_uri": "https://localhost:8080/"
        },
        "outputId": "ef8effab-435a-4bed-a374-609507954ab6"
      },
      "source": [
        "def hello_world():\n",
        "  print(\"Hello World\")\n",
        "\n",
        "hello_world()"
      ],
      "execution_count": null,
      "outputs": [
        {
          "output_type": "stream",
          "text": [
            "Hello World\n"
          ],
          "name": "stdout"
        }
      ]
    },
    {
      "cell_type": "code",
      "metadata": {
        "id": "gZ4Y3FYjoupE",
        "colab_type": "code",
        "colab": {
          "base_uri": "https://localhost:8080/"
        },
        "outputId": "fa94a0d7-1a1a-4f8c-ce00-72a7ca3991aa"
      },
      "source": [
        "def even_or_odd(x):\n",
        "  if x % 2 == 2:\n",
        "    out = \"even\"\n",
        "  else:\n",
        "    out = \"odd\"\n",
        "\n",
        "  return out\n",
        "\n",
        "print(even_or_odd(3))"
      ],
      "execution_count": null,
      "outputs": [
        {
          "output_type": "stream",
          "text": [
            "odd\n"
          ],
          "name": "stdout"
        }
      ]
    },
    {
      "cell_type": "code",
      "metadata": {
        "id": "90KM5bHNo-xw",
        "colab_type": "code",
        "colab": {
          "base_uri": "https://localhost:8080/"
        },
        "outputId": "356cf741-dde5-433e-a400-3ede865ad6c8"
      },
      "source": [
        "def addition(a,b):\n",
        "  return a+b\n",
        "\n",
        "print(addition(1,3.1))"
      ],
      "execution_count": null,
      "outputs": [
        {
          "output_type": "stream",
          "text": [
            "4.1\n"
          ],
          "name": "stdout"
        }
      ]
    },
    {
      "cell_type": "markdown",
      "metadata": {
        "id": "h8vuvFKOqJtx",
        "colab_type": "text"
      },
      "source": [
        "# Others"
      ]
    },
    {
      "cell_type": "markdown",
      "metadata": {
        "id": "uylUkJV_hMI4",
        "colab_type": "text"
      },
      "source": [
        "?module digunakan untuk membuka dokumentasi dari suatu imported object"
      ]
    },
    {
      "cell_type": "code",
      "metadata": {
        "id": "aFxh5cz_hWoI",
        "colab_type": "code",
        "colab": {}
      },
      "source": [
        "import numpy as np\n",
        "?np"
      ],
      "execution_count": null,
      "outputs": []
    },
    {
      "cell_type": "markdown",
      "metadata": {
        "id": "Drx_Nob_qSqc",
        "colab_type": "text"
      },
      "source": [
        "**type** digunakan untuk melihat tipe object"
      ]
    },
    {
      "cell_type": "code",
      "metadata": {
        "id": "fb4ZAP2MqL7a",
        "colab_type": "code",
        "colab": {
          "base_uri": "https://localhost:8080/",
          "height": 34
        },
        "outputId": "f0348bc2-c27d-401a-e205-bafb389938eb"
      },
      "source": [
        "print(type(2.))"
      ],
      "execution_count": null,
      "outputs": [
        {
          "output_type": "stream",
          "text": [
            "<class 'float'>\n"
          ],
          "name": "stdout"
        }
      ]
    },
    {
      "cell_type": "markdown",
      "metadata": {
        "id": "iDFCrsGUq3Gr",
        "colab_type": "text"
      },
      "source": [
        "Beberapa fungsi yang dapat digunakan untuk iterable"
      ]
    },
    {
      "cell_type": "code",
      "metadata": {
        "id": "iTEelnOAqZXj",
        "colab_type": "code",
        "colab": {
          "base_uri": "https://localhost:8080/",
          "height": 118
        },
        "outputId": "588816d8-6afe-4b3c-ebf3-b7f72594699c"
      },
      "source": [
        "X = np.random.rand(5)\n",
        "\n",
        "print(X)\n",
        "print(sorted(X))\n",
        "print(len(X))\n",
        "print(sum(X))\n",
        "print(max(X))\n",
        "print(min(X))"
      ],
      "execution_count": null,
      "outputs": [
        {
          "output_type": "stream",
          "text": [
            "[0.93432521 0.2708278  0.95670491 0.33414479 0.82802173]\n",
            "[0.270827803238763, 0.3341447854137992, 0.8280217265744824, 0.9343252118132983, 0.9567049095812753]\n",
            "5\n",
            "3.324024436621618\n",
            "0.9567049095812753\n",
            "0.270827803238763\n"
          ],
          "name": "stdout"
        }
      ]
    },
    {
      "cell_type": "markdown",
      "metadata": {
        "id": "KQxJGPAGsZTl",
        "colab_type": "text"
      },
      "source": [
        "Seperti **numpy**, **math** adalah package yang dapat digunakan untuk mengakses fungsi dan konstanta matematika yang umum digunakan.\n",
        "\n",
        "Pada umumnya **numpy** lebih efisien, namun ada beberapa fungsi dalam **math** yang tidak tersedia di **numpy**.\n",
        "\n",
        "Untuk fungsi-fungsi yang lebih rumit, biasa digunakan **scipy**.\n",
        "\n",
        "https://docs.python.org/3/library/math.html\n",
        "\n",
        "https://docs.scipy.org/doc/scipy/reference/tutorial/special.html"
      ]
    },
    {
      "cell_type": "code",
      "metadata": {
        "id": "NbNAAzMXrGRC",
        "colab_type": "code",
        "colab": {
          "base_uri": "https://localhost:8080/",
          "height": 50
        },
        "outputId": "446f3d97-9342-46f5-fbb6-fc084f16ddc6"
      },
      "source": [
        "from math import factorial\n",
        "from scipy.special import j0 # zeroth order bessel function of the first kind\n",
        "\n",
        "print(factorial(5))\n",
        "print(j0(5))"
      ],
      "execution_count": null,
      "outputs": [
        {
          "output_type": "stream",
          "text": [
            "120\n",
            "-0.1775967713143383\n"
          ],
          "name": "stdout"
        }
      ]
    }
  ]
}