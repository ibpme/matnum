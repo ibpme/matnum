{
 "cells": [
  {
   "cell_type": "code",
   "execution_count": 1,
   "metadata": {},
   "outputs": [],
   "source": [
    "### Jawaban soal 2 ###\n",
    "import numpy as np\n",
    "def pseudo_determinant(a, alpha):\n",
    "    a = a.copy()\n",
    "    ### Isi jawaban Anda di bawah ###\n",
    "    n = a.shape[0]\n",
    "    rank= n\n",
    "    for k in range(n-1):\n",
    "    #Mulai metode pivoting\n",
    "        m=k\n",
    "        for i in range(k+1,n):\n",
    "            if abs(a[i][k]) > abs(a[m][k]):\n",
    "                m=i\n",
    "        if m != k:\n",
    "            for j in range(k,n):\n",
    "                s=a[k][j]\n",
    "                a[k][j]= a[m][j]\n",
    "                a[m][j] = s\n",
    "        if abs(a[k][k]) < 10**-15:\n",
    "            rank = rank -1 \n",
    "            ## Jangann eliminasi dan pivot lagi\n",
    "            continue\n",
    "\n",
    "        #Gauss Elimination   \n",
    "        for i in range(k+1,n):\n",
    "            p=a[i][k]/a[k][k]\n",
    "        for j in range(k+1,n):\n",
    "            a[i][j]= a[i][j] - p*a[k][j]\n",
    "            a[i][k]=0   \n",
    "    \n",
    "    if rank ==n or alpha ==0:\n",
    "        det = 1\n",
    "        for i in range(n):\n",
    "            det = det*a[i][i]\n",
    "        return  det \n",
    "    else:\n",
    "        ##a akan menjadi a+alpha*I\n",
    "        for i in range(n):\n",
    "            a[i][i] = a[i][i] +alpha\n",
    "\n",
    "        ##Rekursi untuk mencari det|a+alpha*I|\n",
    "        det_baru = pseudo_determinant(a,0)\n",
    "        return det_baru/(alpha**(n-rank))\n",
    "\n"
   ]
  },
  {
   "cell_type": "code",
   "execution_count": 2,
   "metadata": {},
   "outputs": [
    {
     "name": "stdout",
     "output_type": "stream",
     "text": [
      "1.000400060004\n"
     ]
    }
   ],
   "source": [
    "A = np.identity(5)\n",
    "A[3:4, :] = 0\n",
    "print(pseudo_determinant(A, 0.0001))"
   ]
  },
  {
   "cell_type": "code",
   "execution_count": null,
   "metadata": {},
   "outputs": [],
   "source": []
  }
 ],
 "metadata": {
  "kernelspec": {
   "display_name": "Python 3",
   "language": "python",
   "name": "python3"
  },
  "language_info": {
   "codemirror_mode": {
    "name": "ipython",
    "version": 3
   },
   "file_extension": ".py",
   "mimetype": "text/x-python",
   "name": "python",
   "nbconvert_exporter": "python",
   "pygments_lexer": "ipython3",
   "version": "3.7.7"
  }
 },
 "nbformat": 4,
 "nbformat_minor": 2
}
